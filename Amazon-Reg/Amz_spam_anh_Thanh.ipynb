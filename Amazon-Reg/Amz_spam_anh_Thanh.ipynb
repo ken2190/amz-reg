{
 "cells": [
  {
   "cell_type": "code",
   "execution_count": 9,
   "id": "f09ce52c",
   "metadata": {},
   "outputs": [],
   "source": [
    "from utils.utils import *\n",
    "from services.service import *\n",
    "from model.process import predict_helper\n",
    "# import lib\n",
    "import requests\n",
    "from PIL import Image\n",
    "from selenium.webdriver.common.action_chains import ActionChains\n",
    "from time import sleep\n",
    "import random\n",
    "import string\n",
    "import numpy as np\n",
    "import os\n",
    "from skimage import transform\n",
    "import pandas as pd\n",
    "import numpy as np\n",
    "import requests  # to get image from the web\n",
    "import shutil  # to save it locally\n",
    "import os\n",
    "import threading\n",
    "import random\n",
    "import string\n",
    "from selenium import webdriver\n",
    "from selenium.common.exceptions import NoSuchElementException, InvalidArgumentException, ElementNotInteractableException, ElementClickInterceptedException, StaleElementReferenceException\n",
    "from selenium.webdriver.common.action_chains import ActionChains\n",
    "from selenium.webdriver.chrome.options import Options\n",
    "from selenium.webdriver.common.keys import Keys\n",
    "from random import randint\n",
    "from time import sleep\n",
    "from selenium.webdriver.support.ui import WebDriverWait\n",
    "from selenium.webdriver.common.by import By\n",
    "from selenium.webdriver.support import expected_conditions as EC\n",
    "from selenium.common.exceptions import TimeoutException\n",
    "from selenium.webdriver.support.select import Select\n",
    "from selenium.webdriver.firefox.options import Options\n",
    "from PIL import Image, ImageOps\n",
    "import ast\n",
    "from random import uniform\n",
    "from flask import Flask, request, jsonify, after_this_request, render_template\n",
    "import socket\n",
    "\n",
    "first_names = read_file_helper(\"./databases/name/first_name.txt\")\n",
    "last_names = read_file_helper(\"./databases/name/last_name.txt\")\n",
    "\n",
    "user_agents = {}\n",
    "user_agents[\"android\"] = read_file_helper(\"./databases/user-agents/user-agents-android.txt\")\n",
    "\n",
    "\n",
    "class SeleniumBot:\n",
    "    def __init__(self,order_url,proxy = None,user_agent_option = None ,is_firefox = True):\n",
    "        self.order_url = order_url\n",
    "        self.proxy = proxy\n",
    "        self.is_firefox = is_firefox\n",
    "        self.user_agent_option = user_agent_option\n",
    "    \n",
    "    def init_selenium(self):\n",
    "        try:\n",
    "            if self.is_firefox:\n",
    "                profile = webdriver.FirefoxProfile()\n",
    "                if self.proxy != None:\n",
    "                    firefox_capabilities = webdriver.DesiredCapabilities.FIREFOX\n",
    "                    firefox_capabilities['marionette'] = True\n",
    "                    # Sock5\n",
    "                    ip, port = self.proxy.split(':')\n",
    "                    profile.set_preference('network.proxy.type', 1)\n",
    "                    profile.set_preference('network.proxy.socks', ip)\n",
    "                    profile.set_preference('network.proxy.socks_port', int(port))\n",
    "\n",
    "                    # Http\n",
    "#                     firefox_capabilities['proxy'] = {\n",
    "#                         \"proxyType\": \"MANUAL\",\n",
    "#                         \"httpProxy\": self.proxy,\n",
    "#                         \"ftpProxy\": self.proxy,\n",
    "#                         \"sslProxy\": self.proxy\n",
    "#                     }\n",
    "                #,capabilities=firefox_capabilities\n",
    "                \n",
    "                if self.user_agent_option != None:\n",
    "                    user_agent = user_agents[self.user_agent_option][randint(0,len(user_agents[self.user_agent_option])-1)]\n",
    "                    print(user_agent)\n",
    "                    profile.set_preference(\"general.useragent.override\",user_agent)\n",
    "\n",
    "                profile.set_preference(\"dom.webdriver.enabled\", False)\n",
    "                profile.set_preference(\"webdriver_enable_native_events\", False)\n",
    "                profile.set_preference(\"webdriver_assume_untrusted_issuer\", False)\n",
    "                profile.set_preference(\"media.peerconnection.enabled\", False)\n",
    "                profile.set_preference(\"media.navigator.permission.disabled\", False)\n",
    "                options = Options()\n",
    "                options.headless = False \n",
    "                profile.update_preferences()\n",
    "                self.driver = webdriver.Firefox(firefox_profile=profile,capabilities=firefox_capabilities) if self.proxy != None else webdriver.Firefox(options=options,firefox_profile=profile)\n",
    "                self.driver.maximize_window()\n",
    "                return True\n",
    "        except Exception as e:\n",
    "            print(\"Error: \",e)\n",
    "            self.driver.quit()\n",
    "            return False\n",
    "        \n",
    "    def switch_to_frame_helper(self,index = \"\",site = \"amazon\"):\n",
    "        self.driver.switch_to_default_content()\n",
    "        if site == \"amazon\":\n",
    "            self.driver.switch_to_frame(\"cvf-arkose-frame\")\n",
    "        elif site == \"gentoken\":\n",
    "            pass\n",
    "\n",
    "        self.driver.switch_to_frame(\"fc-iframe-wrap\")\n",
    "        self.driver.switch_to_frame(f\"CaptchaFrame{index}\")\n",
    "\n",
    "\n",
    "    def click_image_helper(self,image_index = 1,index = \"\"):\n",
    "        for _ in range(5):\n",
    "            try:\n",
    "                self.switch_to_frame_helper(index)\n",
    "                self.driver.find_element_by_id(f\"image{image_index}\").find_element_by_tag_name(\"a\").click()\n",
    "                return True\n",
    "            except:\n",
    "                index = 2\n",
    "        return False\n",
    "\n",
    "    def click_next_helper(self,index = \"\"):\n",
    "        for _ in range(5):\n",
    "            try:\n",
    "                self.switch_to_frame_helper(index)\n",
    "                self.driver.find_element_by_id(\"home_children_button\").click()\n",
    "                return True\n",
    "            except:\n",
    "                index = 2\n",
    "        return False\n",
    "    \n",
    "    def get_game_text(self,index = \"\"):\n",
    "        for _ in range(5):\n",
    "            try:\n",
    "                self.switch_to_frame_helper(index)\n",
    "                return self.driver.find_element_by_id(\"game_children_text\").text\n",
    "            except:\n",
    "                  index = 2\n",
    "        return None\n",
    "    \n",
    "    def get_base64(self,index = \"\"):\n",
    "        for _ in range(5):\n",
    "            try:\n",
    "                self.switch_to_frame_helper(index)\n",
    "                imgstring = self.driver.find_element_by_tag_name(\"img\").get_attribute(\"src\")\n",
    "                imgstring = imgstring.split(\"base64,\")[-1]\n",
    "                return imgstring\n",
    "            except:\n",
    "                index = 2\n",
    "        return None\n",
    "\n",
    "    def check_home_children_button(self,index = \"\"):\n",
    "        for _ in range(5):\n",
    "            try:\n",
    "                self.switch_to_frame_helper(index)\n",
    "                self.driver.find_element_by_id(\"home_children_button\")\n",
    "                return True\n",
    "            except:\n",
    "                index = 2\n",
    "        return False\n",
    "    def check_wrongTimeout_children_title(self,index = \"\"):\n",
    "        for _ in range(5):\n",
    "            try:\n",
    "                self.switch_to_frame_helper(index)\n",
    "                self.driver.find_element_by_id(\"wrongTimeout_children_title\")\n",
    "                return True\n",
    "            except:\n",
    "                index = 2\n",
    "        return False\n",
    "\n",
    "    def check_wrong_children_exclamation(self,index = \"\"):\n",
    "        for _ in range(5):\n",
    "            try:\n",
    "                self.switch_to_frame_helper(index)\n",
    "                self.driver.find_element_by_id(\"wrong_children_exclamation\")\n",
    "                return True\n",
    "            except:\n",
    "                index = 2\n",
    "        return False\n",
    "\n",
    "    def check_captcha_helper(self,timeout=15):\n",
    "        for i in range(timeout):\n",
    "            try:\n",
    "                try:\n",
    "                    self.driver.find_element_by_class_name(\"a-section.a-text-center.cvf-captcha-img\")\n",
    "                    return \"CAPTCHA_LOL\"\n",
    "                except:\n",
    "                    pass\n",
    "                try:\n",
    "                    self.driver.find_element_by_name(\"cvf_captcha_input\")\n",
    "                    return \"CAPTCHA_LOL\"\n",
    "                except:\n",
    "                    pass\n",
    "                \n",
    "                \n",
    "                try:\n",
    "                    self.driver.switch_to_default_content()\n",
    "                    self.driver.find_element_by_id(\"cvf-input-code\")\n",
    "                    return False\n",
    "                except:\n",
    "                    pass\n",
    "                \n",
    "                if self.check_home_children_button():\n",
    "                    self.click_next_helper()\n",
    "                    return True\n",
    "                if self.check_wrongTimeout_children_title():\n",
    "                    self.click_try_again_time_out_helper()\n",
    "                    sleep(1)\n",
    "                    self.click_try_again_time_out_helper()\n",
    "                    return True\n",
    "                if self.check_wrong_children_exclamation():\n",
    "                    self.click_try_again_whoops_helper()\n",
    "                    sleep(1)\n",
    "                    self.click_try_again_whoops_helper()\n",
    "                    return True\n",
    "                sleep(1)\n",
    "            except Exception as e:\n",
    "                print(e)\n",
    "        return False\n",
    "\n",
    "    def solving_captcha(self,timeout=60):\n",
    "        is_funcaptcha = self.check_captcha_helper(timeout)\n",
    "        if is_funcaptcha == \"CAPTCHA_LOL\":\n",
    "            return \"CAPTCHA_LOL\"\n",
    "        is_not_exits = False\n",
    "        count = 0\n",
    "        if is_funcaptcha:\n",
    "            for _ in range(5):\n",
    "                try:\n",
    "                    self.check_captcha_helper(1)\n",
    "                    sleep(2)\n",
    "                    text = self.get_game_text()\n",
    "                    if \"galaxy\" in text:\n",
    "                        for _ in range(5):\n",
    "                            self.driver.switch_to_default_content()\n",
    "                            if \"cvf/verify\" in self.driver.current_url:\n",
    "                                \n",
    "                                try:\n",
    "                                    self.driver.switch_to_default_content()\n",
    "                                    self.driver.find_element_by_id(\"cvf-input-code\")\n",
    "                                    return True\n",
    "                                except:\n",
    "                                    pass\n",
    "                                try:\n",
    "                                    self.driver.find_element_by_id(\"cvf_phone_num\")\n",
    "                                    return False\n",
    "                                except:\n",
    "                                    pass\n",
    "                                write_file_helper(\"amz_account_veryphone.txt\",f\"{self.email}|{self.paswd}\")\n",
    "                                return False\n",
    "                            try:\n",
    "                                try:\n",
    "                                    self.driver.switch_to_default_content()\n",
    "                                    self.driver.find_element_by_id(\"cvf-input-code\")\n",
    "                                    return True\n",
    "                                except:\n",
    "                                    pass\n",
    "                                captcha_name = self.get_game_text().split(\" \")[-1]\n",
    "                                base64_string = self.get_base64()\n",
    "                                print(captcha_name)\n",
    "                                data = {\"base64image\":base64_string,\"captcha_name\":captcha_name}\n",
    "                                res = predict_helper(data)\n",
    "                                print(res)\n",
    "                                if res[\"status\"]:\n",
    "                                    self.click_image_helper(res[\"index\"])\n",
    "                                    is_not_exits = True \n",
    "                                else:\n",
    "                                    if not is_not_exits:\n",
    "                                        count += 1\n",
    "                                        if count == 2:\n",
    "                                            self.driver.quit()\n",
    "                                            return False\n",
    "                                            \n",
    "                                self.check_captcha_helper(1)\n",
    "                            except Exception as e:\n",
    "                                print(e)\n",
    "                                sleep(1)\n",
    "                    if \"cvf/verify\" in self.driver.current_url:\n",
    "                        try:\n",
    "                            #cvf_phone_num\n",
    "                            self.driver.switch_to_default_content()\n",
    "                            self.driver.find_element_by_id(\"cvf-input-code\")\n",
    "                            return True\n",
    "                        except:\n",
    "                            pass\n",
    "                        try:\n",
    "                            self.driver.find_element_by_id(\"cvf_phone_num\")\n",
    "                            \n",
    "                            return False\n",
    "                        except:\n",
    "                            pass\n",
    "                        write_file_helper(\"amz_account_veryphone.txt\",f\"{self.email}|{self.paswd}\")\n",
    "                        return False\n",
    "                    self.check_captcha_helper(1)\n",
    "                    try:\n",
    "                        self.driver.switch_to_default_content()\n",
    "                        self.driver.find_element_by_id(\"cvf-input-code\")\n",
    "                        return True\n",
    "                    except:\n",
    "                        pass\n",
    "                except Exception as e:\n",
    "                    if \"cvf/verify\" in self.driver.current_url:\n",
    "                        try:\n",
    "                            #cvf_phone_num\n",
    "                            self.driver.switch_to_default_content()\n",
    "                            self.driver.find_element_by_id(\"cvf-input-code\")\n",
    "                            return True\n",
    "                        except:\n",
    "                            pass\n",
    "                        try:\n",
    "                            self.driver.find_element_by_id(\"cvf_phone_num\")\n",
    "                            \n",
    "                            return False\n",
    "                        except:\n",
    "                            pass\n",
    "                        write_file_helper(\"amz_account_veryphone.txt\",f\"{self.email}|{self.paswd}\")\n",
    "                        return False\n",
    "                    try:\n",
    "                        self.driver.switch_to_default_content()\n",
    "                        self.driver.find_element_by_id(\"cvf-input-code\")\n",
    "                        return True\n",
    "                    except:\n",
    "                        pass\n",
    "                    print(e)\n",
    "                    sleep(1)\n",
    "        return True\n",
    "    "
   ]
  },
  {
   "cell_type": "code",
   "execution_count": null,
   "id": "aefc1da0",
   "metadata": {},
   "outputs": [],
   "source": []
  },
  {
   "cell_type": "code",
   "execution_count": 10,
   "id": "c329d531",
   "metadata": {},
   "outputs": [
    {
     "name": "stdout",
     "output_type": "stream",
     "text": [
      "Mozilla/5.0 (Linux; Android 4.4.3; KFAPWI Build/KTU84M) AppleWebKit/537.36 (KHTML, like Gecko) Version/4.0 Chrome/34.0.0.0 Safari/537.36\n"
     ]
    },
    {
     "data": {
      "text/plain": [
       "True"
      ]
     },
     "execution_count": 10,
     "metadata": {},
     "output_type": "execute_result"
    }
   ],
   "source": [
    "self = SeleniumBot(None,\"192.168.21.122:5002\",\"android\")\n",
    "self.init_selenium()"
   ]
  },
  {
   "cell_type": "code",
   "execution_count": 4,
   "id": "106321b5",
   "metadata": {},
   "outputs": [],
   "source": [
    "\n",
    "\n",
    "for _ in range(10000):\n",
    "    last_name = last_names[randint(0,len(last_names)-1)]\n",
    "    first_name = first_names[randint(0,len(first_names)-1)]\n",
    "    full_name = last_name + \" \" + first_name\n",
    "    write_file_helper(\"name.txt\",full_name)"
   ]
  },
  {
   "cell_type": "code",
   "execution_count": null,
   "id": "9aa6ae53",
   "metadata": {},
   "outputs": [],
   "source": []
  },
  {
   "cell_type": "code",
   "execution_count": null,
   "id": "23a7e501",
   "metadata": {},
   "outputs": [],
   "source": [
    "\n",
    "from selenium.webdriver.common.action_chains import ActionChains\n",
    "\n",
    "\n"
   ]
  },
  {
   "cell_type": "code",
   "execution_count": null,
   "id": "96cc0ead",
   "metadata": {},
   "outputs": [],
   "source": [
    "element_to_hover_over.click()"
   ]
  },
  {
   "cell_type": "code",
   "execution_count": null,
   "id": "46422b6f",
   "metadata": {},
   "outputs": [],
   "source": []
  },
  {
   "cell_type": "code",
   "execution_count": null,
   "id": "2a8283bd",
   "metadata": {},
   "outputs": [],
   "source": [
    "def click_start_here():\n",
    "    try:\n",
    "        element_to_hover_over = WebDriverWait(self.driver, 6).until(EC.presence_of_element_located((By.ID, \"nav-link-accountList\")))\n",
    "        action = ActionChains(self.driver)\n",
    "        action.move_to_element(element_to_hover_over).perform()\n",
    "        sleep(randint(1,2))\n",
    "        WebDriverWait(self.driver, 3).until(EC.presence_of_element_located((By.XPATH,\"//*[contains(text(), 'Start here.')]\"))).click()\n",
    "    except Exception as e:\n",
    "        print(\"click_start_here error: \",e)\n",
    "    return False"
   ]
  },
  {
   "cell_type": "code",
   "execution_count": 20,
   "id": "b10df661",
   "metadata": {},
   "outputs": [],
   "source": [
    "element_to_hover_over = self.driver.find_element_by_id(\"nav-link-accountList\")\n",
    "action = ActionChains(self.driver)\n",
    "action.move_to_element(element_to_hover_over).perform()\n",
    "sleep(1)\n",
    "self.driver.find_element_by_xpath(\"//*[contains(text(), 'Start here.')]\").click()\n"
   ]
  },
  {
   "cell_type": "code",
   "execution_count": null,
   "id": "0632dd48",
   "metadata": {},
   "outputs": [],
   "source": [
    "\n",
    "def get_code_amz(email,password):\n",
    "    try:\n",
    "        print(\"DOI MAIL\")\n",
    "        mail = imaplib.IMAP4_SSL('outlook.office365.com', 993)\n",
    "        mail.login(email, password)\n",
    "        print(str(len(mail.select('inbox'))))\n",
    "        code = \"abc\"\n",
    "        try:\n",
    "            for _ in range(15):\n",
    "                try:\n",
    "                    result, data = mail.uid('search', None, '(UNSEEN)')\n",
    "                    inbox_item_list = data[0].split()\n",
    "                    most_recent = inbox_item_list[-1]\n",
    "                    result2, email_data = mail.uid(\n",
    "                        'fetch', most_recent, '(RFC822)')\n",
    "                    text = str(email_data[0][1].decode(\"UTF-8\"))\n",
    "                    code = text.split('\"otp\">')[-1][:10].split(\"<\")[0]\n",
    "                    print(code)\n",
    "                    if len(code) == 6:\n",
    "                        break\n",
    "                    else:\n",
    "                        sleep(randint(4, 6))\n",
    "                except:\n",
    "                    print(\"Mail LOL\")\n",
    "\n",
    "                sleep(2)\n",
    "\n",
    "            mail.close()\n",
    "            mail.logout()\n",
    "            if len(code) == 6:\n",
    "                return {'status_code': 1, 'code': code}\n",
    "            else:\n",
    "                return {'status_code': 0, 'code': None}\n",
    "        except:\n",
    "            return {'status_code': 0, 'code': None}\n",
    "    except Exception as e:\n",
    "        print(\"HOTMAIL DIE\")\n",
    "        return {'status_code': -1, 'code': None}"
   ]
  },
  {
   "cell_type": "code",
   "execution_count": null,
   "id": "4157e281",
   "metadata": {},
   "outputs": [],
   "source": [
    "\n",
    "def is_exits_phone_number(phone_number):\n",
    "    url = \"https://www.amazon.com/ap/signin\"\n",
    "    payload = {\n",
    "        \"appActionToken\":\"9CNsOwzGTIG7mYj2FgGDPOF92ZVp4j3D\",\n",
    "        \"appAction\":\"SIGNIN_PWD_COLLECT\",\n",
    "        \"subPageType\":\"SignInClaimCollect\",\n",
    "        \"openid.return_to\":\"ape:aHR0cHM6Ly93d3cuYW1hem9uLmNvbS8/cmVmXz1uYXZfc2lnbmlu\",\n",
    "        \"prevRID\":\"ape:N0tBM1haS0dCWVZaUkVYWlZWSDg=\",\n",
    "        \"workflowState\":\"eyJ6aXAiOiJERUYiLCJlbmMiOiJBMjU2R0NNIiwiYWxnIjoiQTI1NktXIn0.C1lbUsPQEuINAXirnle9SRzsOOAZu9mSVKRw2J9DuIfjtesD-23VZg.7OGua85x6DM0OouF.qbty5sozZznLQVkW_WvpqPsPSuTgOXpciPL5u31KYtOnGcqF321z0kIhHDI3sCATf9Iwo1iyKN6hhGaXwd1lwDKJLo2h6GFMnfMakMrn5Ve9tyYSO0l7TM7tChMATG2mBjkNG97ejR4i4VVgA3Zy7B8VzfxbTCPIjJZs7XRcjQmcj539eLHSXX6pCyHeD13_pRHGTUtm9SALRx8ljuu71_smqVBVqjtcNm8JGjuIO9goAmvdqj0uPNHmdosavLhcx0933nILBNgmL1brrgbdV_UkU71n3JICZ6q71Dys-hTNIs4yKASgs6BTjp-RZK01kj3u._Zva4wsuJsYfvu2KSgPl2Q\",\n",
    "        \"email\":f\"+1{phone_number}\",\n",
    "        \"password\":\"\",\n",
    "        \"create\":\"0\",\n",
    "        \"metadata1\":\"ECdITeCs:aZasVCE3k8e2/FnEdwuqC7aGqFmwiDdSldcyYPUo8lt1IPLldccNmlRDuNpG2DyBGh6kdC+6cDouakHGH1/5X1HzAZ8iTKvT0/Ip0g3tiPgFwZUy5VqAdMBUsmrRt5hMozhT7Cgs9UAeHmAcFLUp0qrlSVypOQvsZ10AGYGslMkGsUe6m4sHxj3vJRf3UQQ0aqAm1+UM/BDam6GaU7Ua8mvO9KjZkFGFT09F0axxXJb1vf2Sixi0iP/dSp+w/a6+PCj/5rKdsp+2TR+cEFb6Mox/y7GCacUF0P6RE3ILA3/mA+GzLKBrbSRHH93PtX7N0cyx2H7J0gNWh/wtTo6+pqY9EKxYh2fkHQcKYmvTfAPIkcVhCvaSpRE0uzAI4ng/zpv4dk3LhKmKCEVjW4ah719syq0DO20dXgEgpybiCoI6GfH2/VDDVDVbGUfIPr7SAfw4QEwDzTJsdhbp+cuNRp5LhPIGrE3U4aN1QflpOiNH87DomjQ57P…Dx7fb71Sk+/5x63AweZsmfpgC1zF6UVxM/qGjWF09Em5CTpW1yZtGySw8Atk1tX2c8jNAJ9FC7Q0lQicB8ah0TSdb6xFCpvlbdwjiaFQF1+xGN173FQpgDjLRiaCzJfQIkebgLzy6TPaTQ0wgG34RJWKsR+g1g4K1YNR22bOdwUVXNKWSdR8COsRf8T0cJ0kGOrjxCzG978zs++bEelY/yuA/3A20vG0YRb02i3i62S4LHSKK3aXgDaM3pExo/le33oFA7000ykRDspjKkfNyHDyiPS/IyNLxQuW7+cThtb4d35UUNKAE6AkpZxWihRTKPBmUxX6ntie+r6p9H9A8LAynACMFFKLTESzrWFNuHYu6qnI8jPsHOIpe0i91mBMaioimKVcTqrJv8jvIdB/rlRT14cNdUVmn8OpnmEFdOfTJLmovxAA6QLRo49zD4pFDKxFJeMUvTcMTZ3y61b3zOJpL1q3CnItUBRJ35f8Qg/rBiE/dxT0BYZIesKg==\"\n",
    "    }\n",
    "\n",
    "\n",
    "    headers = {\n",
    "        \"Host\": \"www.amazon.com\",\n",
    "        \"User-Agent\": \"Mozilla/5.0 (Macintosh; Intel Mac OS X 10.15; rv:96.0) Gecko/20100101 Firefox/96.0\",\n",
    "        \"Accept\": \"text/html,application/xhtml+xml,application/xml;q=0.9,image/avif,image/webp,*/*;q=0.8\",\n",
    "        \"Accept-Language\": \"en-US,en;q=0.5\",\n",
    "        \"Accept-Encoding\": \"gzip, deflate, br\",\n",
    "        \"Content-Type\": \"application/x-www-form-urlencoded\",\n",
    "        \"Content-Length\": \"9382\",\n",
    "        \"Origin\": \"https://www.amazon.com\",\n",
    "        \"DNT\": \"1\",\n",
    "        \"Connection\": \"keep-alive\",\n",
    "        \"Referer\": \"https://www.amazon.com/ap/signin?openid.pape.max_auth_age=0&openid.return_to=https%3A%2F%2Fwww.amazon.com%2F%3Fref_%3Dnav_signin&openid.identity=http%3A%2F%2Fspecs.openid.net%2Fauth%2F2.0%2Fidentifier_select&openid.assoc_handle=usflex&openid.mode=checkid_setup&openid.claimed_id=http%3A%2F%2Fspecs.openid.net%2Fauth%2F2.0%2Fidentifier_select&openid.ns=http%3A%2F%2Fspecs.openid.net%2Fauth%2F2.0&\",\n",
    "        \"Cookie\": 'session-id=144-5622164-4674153; session-id-time=2274713856l; i18n-prefs=USD; sp-cdn=\"L5Z9:VN\"; skin=noskin; csm-hit=tb:B7266FDCACJPYJWEMPK6+s-7KA3XZKGBYVZREXZVVH8|1643993862911&t:1643993862911&adb:adblk_no; ubid-main=135-7170776-6706308; session-token=Ur/ZB9rCxaZYThob47XRhIzGid1HsBWT/qd7UBkvQPOch/qCMO1LfIkCVE7dZ6pSxdPGn1u686qEh3nMLip2FMkz7EwUUdIuRjMe2j19OqVUqMd2K2mRUcRXzwXgdsDMgFQvFfqw+jtwr2UESCCbBp74emdiXb0xcYsQrygryShWwyVb4ET+wAtMYDfW+zyB',\n",
    "        \"Upgrade-Insecure-Requests\": \"1\",\n",
    "        \"Sec-Fetch-Dest\": \"document\",\n",
    "        \"Sec-Fetch-Mode\": \"navigate\",\n",
    "        \"Sec-Fetch-Site\": \"same-origin\",\n",
    "        \"Sec-Fetch-User\": \"?1\",\n",
    "        \"TE\": \"trailers\"\n",
    "    }\n",
    "    \n",
    "    r = requests.post(url,headers=headers,data=payload)\n",
    "    if r.status_code == 200:\n",
    "        text = r.text\n",
    "        \n",
    "        if \"Password\" in text:\n",
    "            print(\"TON TAI\",phone_number)\n",
    "            return False\n",
    "        elif \"Incorrect\" in text:\n",
    "            print(\"KHONG\",phone_number)\n",
    "            return True\n",
    "    print(\"CHAN\")\n",
    "    return True"
   ]
  },
  {
   "cell_type": "code",
   "execution_count": null,
   "id": "3b479f66",
   "metadata": {},
   "outputs": [],
   "source": [
    "is_exits_phone_number(\"6614433261\")"
   ]
  },
  {
   "cell_type": "code",
   "execution_count": null,
   "id": "2d07fbcd",
   "metadata": {},
   "outputs": [],
   "source": [
    "email = \"dauriayzpenrodo20@hotmail.com\"\n",
    "paswd = \"XR0E4n03\"\n"
   ]
  },
  {
   "cell_type": "code",
   "execution_count": 57,
   "id": "a73414d7",
   "metadata": {},
   "outputs": [],
   "source": [
    "self.driver.quit()"
   ]
  },
  {
   "cell_type": "code",
   "execution_count": 60,
   "id": "57648219",
   "metadata": {},
   "outputs": [
    {
     "name": "stdout",
     "output_type": "stream",
     "text": [
      "Mozilla/5.0 (Linux; Android 7.1.1; SAMSUNG SM-T555) AppleWebKit/537.36 (KHTML, like Gecko) SamsungBrowser/10.1 Chrome/71.0.3578.99 Safari/537.36\n"
     ]
    },
    {
     "data": {
      "text/plain": [
       "True"
      ]
     },
     "execution_count": 60,
     "metadata": {},
     "output_type": "execute_result"
    }
   ],
   "source": [
    "self.init_selenium()"
   ]
  },
  {
   "cell_type": "code",
   "execution_count": null,
   "id": "7631c29f",
   "metadata": {},
   "outputs": [],
   "source": []
  },
  {
   "cell_type": "code",
   "execution_count": 61,
   "id": "35e0abb6",
   "metadata": {},
   "outputs": [],
   "source": [
    "self.driver.get(\"https://www.amazon.com/\")"
   ]
  },
  {
   "cell_type": "code",
   "execution_count": null,
   "id": "9f594999",
   "metadata": {},
   "outputs": [],
   "source": [
    "account_info_list = handle_account_info(data)"
   ]
  },
  {
   "cell_type": "code",
   "execution_count": null,
   "id": "8018ea04",
   "metadata": {},
   "outputs": [],
   "source": [
    "def check_homepage_catpcha():\n",
    "    try:\n",
    "        self.driver.find_element_by_id(\"captchacharacters\")\n",
    "        return \"have_homepage_captcha\"\n",
    "    except:\n",
    "        return \"dont_have_homepage_captcha\"\n",
    "\n",
    "def click_start_here():\n",
    "    try:\n",
    "        element_to_hover_over = WebDriverWait(self.driver, 5).until(EC.presence_of_element_located((By.ID, \"nav-link-accountList\")))\n",
    "        action = ActionChains(self.driver)\n",
    "        action.move_to_element(element_to_hover_over).perform()\n",
    "        sleep(randint(1,2))\n",
    "        WebDriverWait(self.driver, 3).until(EC.presence_of_element_located((By.XPATH,\"//*[contains(text(), 'Start here.')]\"))).click()\n",
    "        return \"success\"\n",
    "    except Exception as e:\n",
    "        print(\"click_start_here error: \",e)\n",
    "        res = check_homepage_catpcha()\n",
    "        if res == \"have_homepage_captcha\":\n",
    "            return res\n",
    "    return \"unknown\""
   ]
  },
  {
   "cell_type": "code",
   "execution_count": 62,
   "id": "c42ef785",
   "metadata": {},
   "outputs": [
    {
     "data": {
      "text/plain": [
       "'success'"
      ]
     },
     "execution_count": 62,
     "metadata": {},
     "output_type": "execute_result"
    }
   ],
   "source": [
    "click_start_here()"
   ]
  },
  {
   "cell_type": "code",
   "execution_count": 22,
   "id": "fcb2e351",
   "metadata": {},
   "outputs": [
    {
     "data": {
      "text/plain": [
       "<selenium.webdriver.firefox.webelement.FirefoxWebElement (session=\"575f5b29-8403-473d-8c5d-7dba103502ed\", element=\"771a994b-7cb6-45c3-b567-aa6048fe168e\")>"
      ]
     },
     "execution_count": 22,
     "metadata": {},
     "output_type": "execute_result"
    }
   ],
   "source": [
    "self.driver.find_element_by_id(\"captchacharacters\")"
   ]
  },
  {
   "cell_type": "code",
   "execution_count": 63,
   "id": "145bb60b",
   "metadata": {},
   "outputs": [],
   "source": [
    "account_info = account_info_list[0]\n",
    "self.account_info = account_info"
   ]
  },
  {
   "cell_type": "code",
   "execution_count": 64,
   "id": "7513446b",
   "metadata": {},
   "outputs": [
    {
     "data": {
      "text/plain": [
       "{'ccv_card_name': '4744722110506872',\n",
       " 'ccv_month': '09',\n",
       " 'ccv_year': '2023',\n",
       " 'your_name': 'Jessy Jassion',\n",
       " 'stress_address': '254 Baughman Ave',\n",
       " 'city': 'Danville',\n",
       " 'state': 'KY',\n",
       " 'zip_code': '40422',\n",
       " 'phone_number': '8722568548'}"
      ]
     },
     "execution_count": 64,
     "metadata": {},
     "output_type": "execute_result"
    }
   ],
   "source": [
    "self.account_info"
   ]
  },
  {
   "cell_type": "code",
   "execution_count": null,
   "id": "d91c8146",
   "metadata": {},
   "outputs": [],
   "source": [
    "roewemzleddenpbw@hotmail.com|aT9Mk836\n"
   ]
  },
  {
   "cell_type": "code",
   "execution_count": null,
   "id": "d21a7625",
   "metadata": {},
   "outputs": [],
   "source": []
  },
  {
   "cell_type": "code",
   "execution_count": 65,
   "id": "c003aaa5",
   "metadata": {},
   "outputs": [],
   "source": [
    "hotmail_info = {\"email\": \"roewemzleddenpbw@hotmail.com\" , \"password\": \"aT9Mk836\"}"
   ]
  },
  {
   "cell_type": "code",
   "execution_count": 66,
   "id": "a79f3137",
   "metadata": {},
   "outputs": [],
   "source": [
    "self.hotmail_info = hotmail_info"
   ]
  },
  {
   "cell_type": "code",
   "execution_count": null,
   "id": "27ef1546",
   "metadata": {},
   "outputs": [],
   "source": []
  },
  {
   "cell_type": "code",
   "execution_count": 67,
   "id": "92fe9d5d",
   "metadata": {},
   "outputs": [],
   "source": [
    "sleep(randint(1,3))\n",
    "WebDriverWait(self.driver, 20).until(EC.presence_of_element_located((By.ID, 'ap_customer_name'))).send_keys(self.account_info[\"your_name\"])\n",
    "sleep(randint(1,2))\n",
    "WebDriverWait(self.driver, 6).until(EC.presence_of_element_located((By.ID, 'ap_email'))).send_keys(self.hotmail_info[\"email\"])\n",
    "\n"
   ]
  },
  {
   "cell_type": "code",
   "execution_count": 68,
   "id": "0c6ccaa2",
   "metadata": {},
   "outputs": [],
   "source": [
    "WebDriverWait(self.driver, 6).until(EC.presence_of_element_located((By.ID, 'ap_email'))).send_keys(self.hotmail_info[\"email\"])\n"
   ]
  },
  {
   "cell_type": "code",
   "execution_count": 69,
   "id": "62ef4a5d",
   "metadata": {},
   "outputs": [],
   "source": [
    "sleep(randint(1,2))\n",
    "WebDriverWait(self.driver, 6).until(EC.presence_of_element_located((By.ID, 'ap_password'))).send_keys(self.hotmail_info[\"password\"])"
   ]
  },
  {
   "cell_type": "code",
   "execution_count": 70,
   "id": "a3296057",
   "metadata": {},
   "outputs": [],
   "source": [
    "sleep(uniform(1,2))\n",
    "try:\n",
    "    WebDriverWait(self.driver, 2).until(EC.presence_of_element_located((By.ID, 'ap_password_check'))).send_keys(self.hotmail_info[\"password\"])\n",
    "except:\n",
    "    pass\n",
    "sleep(uniform(1,2))\n",
    "# click create\n",
    "WebDriverWait(self.driver, 5).until(EC.presence_of_element_located((By.ID, 'continue'))).click()"
   ]
  },
  {
   "cell_type": "code",
   "execution_count": 71,
   "id": "67514b23",
   "metadata": {},
   "outputs": [
    {
     "name": "stdout",
     "output_type": "stream",
     "text": [
      "galaxy\n",
      "NWB453PP\n",
      "[5.137674e-15, 1.8217992e-12, 3.0840494e-07, 1.0, 7.9171614e-11, 1.2103026e-11]\n",
      "{'status': True, 'index': 4}\n",
      "'NoneType' object has no attribute 'split'\n",
      "'NoneType' object has no attribute 'split'\n"
     ]
    }
   ],
   "source": [
    "is_solved_captcha = self.solving_captcha(timeout=60)"
   ]
  },
  {
   "cell_type": "code",
   "execution_count": 72,
   "id": "e16ca529",
   "metadata": {},
   "outputs": [
    {
     "name": "stdout",
     "output_type": "stream",
     "text": [
      "DOI MAIL\n",
      "2\n",
      "871647\n"
     ]
    }
   ],
   "source": [
    "if is_solved_captcha == True or is_solved_captcha != \"CAPTCHA_LOL\":\n",
    "    try:\n",
    "    # wait input code\n",
    "        WebDriverWait(self.driver, 10).until(EC.presence_of_element_located((By.ID, 'cvf-input-code')))\n",
    "    except:\n",
    "        pass\n",
    "    otp_data = get_amz_code_outlook_hotmail(self.hotmail_info[\"email\"],self.hotmail_info[\"password\"])\n",
    "    if otp_data[\"status_code\"] == 1:\n",
    "        # get code success\n",
    "        WebDriverWait(self.driver, 6).until(EC.presence_of_element_located((By.ID, 'cvf-input-code'))).send_keys(otp_data[\"code\"])\n",
    "        sleep(uniform(0.5,1))\n",
    "        WebDriverWait(self.driver, 6).until(EC.presence_of_element_located((By.CLASS_NAME, 'a-button-input'))).click()"
   ]
  },
  {
   "cell_type": "code",
   "execution_count": null,
   "id": "51ee9e6c",
   "metadata": {},
   "outputs": [],
   "source": []
  },
  {
   "cell_type": "code",
   "execution_count": null,
   "id": "a28f14e0",
   "metadata": {},
   "outputs": [],
   "source": []
  },
  {
   "cell_type": "code",
   "execution_count": null,
   "id": "908b12f0",
   "metadata": {},
   "outputs": [],
   "source": []
  },
  {
   "cell_type": "code",
   "execution_count": null,
   "id": "494e22cb",
   "metadata": {},
   "outputs": [],
   "source": []
  },
  {
   "cell_type": "code",
   "execution_count": null,
   "id": "3ebe23ba",
   "metadata": {},
   "outputs": [],
   "source": [
    "\n",
    "WebDriverWait(self.driver, 6).until(EC.presence_of_element_located((By.ID, 'ap_email'))).send_keys(email)\n",
    "\n",
    "sleep(randint(1,2))\n",
    "WebDriverWait(self.driver, 6).until(EC.presence_of_element_located((By.ID, 'ap_password'))).send_keys(paswd)\n",
    "sleep(uniform(0.2,0.6))\n",
    "try:\n",
    "    WebDriverWait(self.driver, 2).until(EC.presence_of_element_located((By.ID, 'ap_password_check'))).send_keys(paswd)\n",
    "except:\n",
    "    pass\n",
    "sleep(uniform(0.2,0.6))\n",
    "# click create\n",
    "WebDriverWait(self.driver, 5).until(EC.presence_of_element_located((By.ID, 'continue'))).click()"
   ]
  },
  {
   "cell_type": "code",
   "execution_count": 74,
   "id": "24365c50",
   "metadata": {},
   "outputs": [],
   "source": [
    "def wait_url(url = \"account-setup/finish\",timeout=30):\n",
    "    self.driver.switch_to_default_content()\n",
    "    for _ in range(timeout):\n",
    "        if url in self.driver.current_url:\n",
    "            return True\n",
    "        sleep(1)\n",
    "    return False\n",
    "\n",
    "\n",
    "def wait_element(element,name,timeout=30):\n",
    "    for _ in range(timeout):\n",
    "        try:\n",
    "            WebDriverWait(self.driver, 1).until(EC.presence_of_element_located((element, name)))\n",
    "            return True\n",
    "        except:\n",
    "            try:\n",
    "                self.driver.find_element_by_id(\"nav-search-keywords\")\n",
    "                return True\n",
    "            except:\n",
    "                pass\n",
    "    return False"
   ]
  },
  {
   "cell_type": "code",
   "execution_count": null,
   "id": "d28d6653",
   "metadata": {},
   "outputs": [],
   "source": [
    "if self.solving_captcha() == True and self.solving_captcha() != \"CAPTCHA_LOL\":\n",
    "    otp_data = get_code_amz(email,paswd)\n",
    "    if otp_data[\"status_code\"] == 1:\n",
    "        # get code success\n",
    "        WebDriverWait(self.driver, 6).until(EC.presence_of_element_located((By.ID, 'cvf-input-code'))).send_keys(otp_data[\"code\"])\n",
    "        sleep(uniform(0.5,1))\n",
    "        WebDriverWait(self.driver, 6).until(EC.presence_of_element_located((By.CLASS_NAME, 'a-button-input'))).click()"
   ]
  },
  {
   "cell_type": "code",
   "execution_count": 6,
   "id": "04737b37",
   "metadata": {},
   "outputs": [
    {
     "data": {
      "text/plain": [
       "43.0"
      ]
     },
     "execution_count": 6,
     "metadata": {},
     "output_type": "execute_result"
    }
   ],
   "source": [
    "20*3.5 - 1.1*20 - 5"
   ]
  },
  {
   "cell_type": "code",
   "execution_count": null,
   "id": "e320439f",
   "metadata": {},
   "outputs": [],
   "source": [
    "1tr5 => bán "
   ]
  },
  {
   "cell_type": "code",
   "execution_count": 7,
   "id": "5b62cfa4",
   "metadata": {},
   "outputs": [
    {
     "data": {
      "text/plain": [
       "2000"
      ]
     },
     "execution_count": 7,
     "metadata": {},
     "output_type": "execute_result"
    }
   ],
   "source": [
    "200*10"
   ]
  },
  {
   "cell_type": "code",
   "execution_count": null,
   "id": "b0e7a966",
   "metadata": {},
   "outputs": [],
   "source": []
  },
  {
   "cell_type": "code",
   "execution_count": 90,
   "id": "92eff54e",
   "metadata": {},
   "outputs": [],
   "source": [
    "for _ in range(100):\n",
    "    is_finish = wait_url(url=\"account-setup/finish\",timeout=1)\n",
    "    is_very_phone = wait_url(url=\"ap/cvf/verify\",timeout=1)\n",
    "\n",
    "    if is_very_phone or is_finish:\n",
    "        break\n",
    "\n",
    "# if is_finish:\n",
    "#     self.order_item()\n",
    "#     return\n",
    "# if is_very_phone:\n",
    "#         # get code\n",
    "#         self.handle_very_phone()"
   ]
  },
  {
   "cell_type": "code",
   "execution_count": 76,
   "id": "d4c1fbf0",
   "metadata": {},
   "outputs": [
    {
     "data": {
      "text/plain": [
       "True"
      ]
     },
     "execution_count": 76,
     "metadata": {},
     "output_type": "execute_result"
    }
   ],
   "source": [
    "is_very_phone"
   ]
  },
  {
   "cell_type": "code",
   "execution_count": null,
   "id": "a6b6a774",
   "metadata": {},
   "outputs": [],
   "source": []
  },
  {
   "cell_type": "code",
   "execution_count": null,
   "id": "08b22ded",
   "metadata": {},
   "outputs": [],
   "source": [
    "is_very_phone"
   ]
  },
  {
   "cell_type": "code",
   "execution_count": null,
   "id": "790fe384",
   "metadata": {},
   "outputs": [],
   "source": []
  },
  {
   "cell_type": "code",
   "execution_count": null,
   "id": "7828cbc1",
   "metadata": {},
   "outputs": [],
   "source": [
    "self.handle_very_phone()"
   ]
  },
  {
   "cell_type": "code",
   "execution_count": null,
   "id": "c454711f",
   "metadata": {},
   "outputs": [],
   "source": [
    "# ctsc api\n",
    "# "
   ]
  },
  {
   "cell_type": "code",
   "execution_count": 48,
   "id": "a6ec8f8a",
   "metadata": {},
   "outputs": [],
   "source": [
    "\n",
    "def is_exits_phone_number(phone_number,country=\"vi\"):\n",
    "    url = \"https://www.amazon.com/ap/signin\"\n",
    "    payload = {\n",
    "        \"appActionToken\":\"9CNsOwzGTIG7mYj2FgGDPOF92ZVp4j3D\",\n",
    "        \"appAction\":\"SIGNIN_PWD_COLLECT\",\n",
    "        \"subPageType\":\"SignInClaimCollect\",\n",
    "        \"openid.return_to\":\"ape:aHR0cHM6Ly93d3cuYW1hem9uLmNvbS8/cmVmXz1uYXZfc2lnbmlu\",\n",
    "        \"prevRID\":\"ape:N0tBM1haS0dCWVZaUkVYWlZWSDg=\",\n",
    "        \"workflowState\":\"eyJ6aXAiOiJERUYiLCJlbmMiOiJBMjU2R0NNIiwiYWxnIjoiQTI1NktXIn0.C1lbUsPQEuINAXirnle9SRzsOOAZu9mSVKRw2J9DuIfjtesD-23VZg.7OGua85x6DM0OouF.qbty5sozZznLQVkW_WvpqPsPSuTgOXpciPL5u31KYtOnGcqF321z0kIhHDI3sCATf9Iwo1iyKN6hhGaXwd1lwDKJLo2h6GFMnfMakMrn5Ve9tyYSO0l7TM7tChMATG2mBjkNG97ejR4i4VVgA3Zy7B8VzfxbTCPIjJZs7XRcjQmcj539eLHSXX6pCyHeD13_pRHGTUtm9SALRx8ljuu71_smqVBVqjtcNm8JGjuIO9goAmvdqj0uPNHmdosavLhcx0933nILBNgmL1brrgbdV_UkU71n3JICZ6q71Dys-hTNIs4yKASgs6BTjp-RZK01kj3u._Zva4wsuJsYfvu2KSgPl2Q\",\n",
    "        \"email\":f\"+84{phone_number}\" if country == \"vi\" else f\"+1{phone_number}\",\n",
    "        \"password\":\"\",\n",
    "        \"create\":\"0\",\n",
    "        \"metadata1\":\"ECdITeCs:aZasVCE3k8e2/FnEdwuqC7aGqFmwiDdSldcyYPUo8lt1IPLldccNmlRDuNpG2DyBGh6kdC+6cDouakHGH1/5X1HzAZ8iTKvT0/Ip0g3tiPgFwZUy5VqAdMBUsmrRt5hMozhT7Cgs9UAeHmAcFLUp0qrlSVypOQvsZ10AGYGslMkGsUe6m4sHxj3vJRf3UQQ0aqAm1+UM/BDam6GaU7Ua8mvO9KjZkFGFT09F0axxXJb1vf2Sixi0iP/dSp+w/a6+PCj/5rKdsp+2TR+cEFb6Mox/y7GCacUF0P6RE3ILA3/mA+GzLKBrbSRHH93PtX7N0cyx2H7J0gNWh/wtTo6+pqY9EKxYh2fkHQcKYmvTfAPIkcVhCvaSpRE0uzAI4ng/zpv4dk3LhKmKCEVjW4ah719syq0DO20dXgEgpybiCoI6GfH2/VDDVDVbGUfIPr7SAfw4QEwDzTJsdhbp+cuNRp5LhPIGrE3U4aN1QflpOiNH87DomjQ57P…Dx7fb71Sk+/5x63AweZsmfpgC1zF6UVxM/qGjWF09Em5CTpW1yZtGySw8Atk1tX2c8jNAJ9FC7Q0lQicB8ah0TSdb6xFCpvlbdwjiaFQF1+xGN173FQpgDjLRiaCzJfQIkebgLzy6TPaTQ0wgG34RJWKsR+g1g4K1YNR22bOdwUVXNKWSdR8COsRf8T0cJ0kGOrjxCzG978zs++bEelY/yuA/3A20vG0YRb02i3i62S4LHSKK3aXgDaM3pExo/le33oFA7000ykRDspjKkfNyHDyiPS/IyNLxQuW7+cThtb4d35UUNKAE6AkpZxWihRTKPBmUxX6ntie+r6p9H9A8LAynACMFFKLTESzrWFNuHYu6qnI8jPsHOIpe0i91mBMaioimKVcTqrJv8jvIdB/rlRT14cNdUVmn8OpnmEFdOfTJLmovxAA6QLRo49zD4pFDKxFJeMUvTcMTZ3y61b3zOJpL1q3CnItUBRJ35f8Qg/rBiE/dxT0BYZIesKg==\"\n",
    "    }\n",
    "\n",
    "\n",
    "    headers = {\n",
    "        \"Host\": \"www.amazon.com\",\n",
    "        \"User-Agent\": \"Mozilla/5.0 (Macintosh; Intel Mac OS X 10.15; rv:96.0) Gecko/20100101 Firefox/96.0\",\n",
    "        \"Accept\": \"text/html,application/xhtml+xml,application/xml;q=0.9,image/avif,image/webp,*/*;q=0.8\",\n",
    "        \"Accept-Language\": \"en-US,en;q=0.5\",\n",
    "        \"Accept-Encoding\": \"gzip, deflate, br\",\n",
    "        \"Content-Type\": \"application/x-www-form-urlencoded\",\n",
    "        \"Content-Length\": \"9382\",\n",
    "        \"Origin\": \"https://www.amazon.com\",\n",
    "        \"DNT\": \"1\",\n",
    "        \"Connection\": \"keep-alive\",\n",
    "        \"Referer\": \"https://www.amazon.com/ap/signin?openid.pape.max_auth_age=0&openid.return_to=https%3A%2F%2Fwww.amazon.com%2F%3Fref_%3Dnav_signin&openid.identity=http%3A%2F%2Fspecs.openid.net%2Fauth%2F2.0%2Fidentifier_select&openid.assoc_handle=usflex&openid.mode=checkid_setup&openid.claimed_id=http%3A%2F%2Fspecs.openid.net%2Fauth%2F2.0%2Fidentifier_select&openid.ns=http%3A%2F%2Fspecs.openid.net%2Fauth%2F2.0&\",\n",
    "        \"Cookie\": 'session-id=144-5622164-4674153; session-id-time=2274713856l; i18n-prefs=USD; sp-cdn=\"L5Z9:VN\"; skin=noskin; csm-hit=tb:B7266FDCACJPYJWEMPK6+s-7KA3XZKGBYVZREXZVVH8|1643993862911&t:1643993862911&adb:adblk_no; ubid-main=135-7170776-6706308; session-token=Ur/ZB9rCxaZYThob47XRhIzGid1HsBWT/qd7UBkvQPOch/qCMO1LfIkCVE7dZ6pSxdPGn1u686qEh3nMLip2FMkz7EwUUdIuRjMe2j19OqVUqMd2K2mRUcRXzwXgdsDMgFQvFfqw+jtwr2UESCCbBp74emdiXb0xcYsQrygryShWwyVb4ET+wAtMYDfW+zyB',\n",
    "        \"Upgrade-Insecure-Requests\": \"1\",\n",
    "        \"Sec-Fetch-Dest\": \"document\",\n",
    "        \"Sec-Fetch-Mode\": \"navigate\",\n",
    "        \"Sec-Fetch-Site\": \"same-origin\",\n",
    "        \"Sec-Fetch-User\": \"?1\",\n",
    "        \"TE\": \"trailers\"\n",
    "    }\n",
    "    \n",
    "    r = requests.post(url,headers=headers,data=payload)\n",
    "    if r.status_code == 200:\n",
    "        text = r.text\n",
    "        \n",
    "        if \"Password\" in text:\n",
    "            print(\"TON TAI\",phone_number)\n",
    "            return False\n",
    "        elif \"Incorrect\" in text:\n",
    "            print(\"KHONG\",phone_number)\n",
    "            return True\n",
    "    print(\"CHAN\")\n",
    "    return True"
   ]
  },
  {
   "cell_type": "code",
   "execution_count": null,
   "id": "6ac1e99e",
   "metadata": {},
   "outputs": [],
   "source": [
    "818390414"
   ]
  },
  {
   "cell_type": "code",
   "execution_count": 93,
   "id": "0cf84422",
   "metadata": {},
   "outputs": [],
   "source": [
    "def get_phone_helper(number_of_loops=30):\n",
    "        self.is_vi =  \"us\" if SITE_TEXTNOW == \"0\" else \"vi\"\n",
    "        for _ in range(number_of_loops):\n",
    "\n",
    "            data_phone_number = get_phone_number_codetextnow(API_KEY) if SITE_TEXTNOW == \"0\" else get_phone_number_chothuesimcode(API_KEY)\n",
    "            if data_phone_number[\"status\"]:\n",
    "                if is_exits_phone_number(data_phone_number[\"data\"][\"phone_number\"],self.is_vi):\n",
    "                    return data_phone_number\n",
    "                else:\n",
    "                    write_file_helper(\"phone_exits.txt\",data_phone_number[\"data\"][\"phone_number\"])\n",
    "            sleep(1)\n",
    "        return data_phone_number"
   ]
  },
  {
   "cell_type": "code",
   "execution_count": 94,
   "id": "221b34b3",
   "metadata": {},
   "outputs": [
    {
     "name": "stdout",
     "output_type": "stream",
     "text": [
      "KHONG 0819278010\n"
     ]
    }
   ],
   "source": [
    "data_phone_number = get_phone_helper()"
   ]
  },
  {
   "cell_type": "code",
   "execution_count": 84,
   "id": "5f4095f3",
   "metadata": {},
   "outputs": [],
   "source": [
    "# select country to add phone nunmber\n",
    "def select_country(target_country=\"vi\"):\n",
    "    WebDriverWait(self.driver, 5).until(EC.presence_of_element_located((By.CLASS_NAME, \"a-button-text.a-declarative\"))).click()\n",
    "    # vi\n",
    "    sleep(randint(1,2))\n",
    "    WebDriverWait(self.driver, 5).until(EC.visibility_of_element_located((By.ID, \"cvf_phone_cc_native_221\"))).click()\n"
   ]
  },
  {
   "cell_type": "code",
   "execution_count": 91,
   "id": "7d2e9db2",
   "metadata": {},
   "outputs": [],
   "source": [
    "\n",
    "select_country()\n"
   ]
  },
  {
   "cell_type": "code",
   "execution_count": 95,
   "id": "8a9c54b0",
   "metadata": {},
   "outputs": [],
   "source": [
    "WebDriverWait(self.driver, 10).until(EC.presence_of_element_located((By.NAME, 'cvf_phone_num'))).send_keys(self.phone_number)\n",
    "WebDriverWait(self.driver, 10).until(EC.presence_of_element_located((By.NAME, 'cvf_action'))).click()"
   ]
  },
  {
   "cell_type": "code",
   "execution_count": 97,
   "id": "f56932d8",
   "metadata": {},
   "outputs": [
    {
     "name": "stdout",
     "output_type": "stream",
     "text": [
      "{'ResponseCode': 1, 'Msg': 'Chưa nhận được code', 'Result': {'Cost': 0.7}}\n",
      "data_otp {'status': False, 'scam': False, 'otp_code': None}\n",
      "{'ResponseCode': 1, 'Msg': 'Chưa nhận được code', 'Result': {'Cost': 0.7}}\n",
      "data_otp {'status': False, 'scam': False, 'otp_code': None}\n",
      "{'ResponseCode': 1, 'Msg': 'Chưa nhận được code', 'Result': {'Cost': 0.7}}\n",
      "data_otp {'status': False, 'scam': False, 'otp_code': None}\n",
      "{'ResponseCode': 1, 'Msg': 'Chưa nhận được code', 'Result': {'Cost': 0.7}}\n",
      "data_otp {'status': False, 'scam': False, 'otp_code': None}\n",
      "{'ResponseCode': 1, 'Msg': 'Chưa nhận được code', 'Result': {'Cost': 0.7}}\n",
      "data_otp {'status': False, 'scam': False, 'otp_code': None}\n",
      "{'ResponseCode': 1, 'Msg': 'Chưa nhận được code', 'Result': {'Cost': 0.7}}\n",
      "data_otp {'status': False, 'scam': False, 'otp_code': None}\n",
      "{'ResponseCode': 1, 'Msg': 'Chưa nhận được code', 'Result': {'Cost': 0.7}}\n",
      "data_otp {'status': False, 'scam': False, 'otp_code': None}\n",
      "{'ResponseCode': 1, 'Msg': 'Chưa nhận được code', 'Result': {'Cost': 0.7}}\n",
      "data_otp {'status': False, 'scam': False, 'otp_code': None}\n",
      "{'ResponseCode': 1, 'Msg': 'Chưa nhận được code', 'Result': {'Cost': 0.7}}\n",
      "data_otp {'status': False, 'scam': False, 'otp_code': None}\n",
      "{'ResponseCode': 1, 'Msg': 'Chưa nhận được code', 'Result': {'Cost': 0.7}}\n",
      "data_otp {'status': False, 'scam': False, 'otp_code': None}\n",
      "{'ResponseCode': 1, 'Msg': 'Chưa nhận được code', 'Result': {'Cost': 0.7}}\n",
      "data_otp {'status': False, 'scam': False, 'otp_code': None}\n",
      "{'ResponseCode': 1, 'Msg': 'Chưa nhận được code', 'Result': {'Cost': 0.7}}\n",
      "data_otp {'status': False, 'scam': False, 'otp_code': None}\n",
      "{'ResponseCode': 1, 'Msg': 'Chưa nhận được code', 'Result': {'Cost': 0.7}}\n",
      "data_otp {'status': False, 'scam': False, 'otp_code': None}\n",
      "{'ResponseCode': 1, 'Msg': 'Chưa nhận được code', 'Result': {'Cost': 0.7}}\n",
      "data_otp {'status': False, 'scam': False, 'otp_code': None}\n",
      "{'ResponseCode': 1, 'Msg': 'Chưa nhận được code', 'Result': {'Cost': 0.7}}\n",
      "data_otp {'status': False, 'scam': False, 'otp_code': None}\n",
      "{'ResponseCode': 1, 'Msg': 'Chưa nhận được code', 'Result': {'Cost': 0.7}}\n",
      "data_otp {'status': False, 'scam': False, 'otp_code': None}\n",
      "{'ResponseCode': 1, 'Msg': 'Chưa nhận được code', 'Result': {'Cost': 0.7}}\n",
      "data_otp {'status': False, 'scam': False, 'otp_code': None}\n",
      "{'ResponseCode': 1, 'Msg': 'Chưa nhận được code', 'Result': {'Cost': 0.7}}\n",
      "data_otp {'status': False, 'scam': False, 'otp_code': None}\n",
      "{'ResponseCode': 1, 'Msg': 'Chưa nhận được code', 'Result': {'Cost': 0.7}}\n",
      "data_otp {'status': False, 'scam': False, 'otp_code': None}\n",
      "{'ResponseCode': 1, 'Msg': 'Chưa nhận được code', 'Result': {'Cost': 0.7}}\n",
      "data_otp {'status': False, 'scam': False, 'otp_code': None}\n",
      "{'ResponseCode': 1, 'Msg': 'Chưa nhận được code', 'Result': {'Cost': 0.7}}\n",
      "data_otp {'status': False, 'scam': False, 'otp_code': None}\n",
      "{'ResponseCode': 1, 'Msg': 'Chưa nhận được code', 'Result': {'Cost': 0.7}}\n",
      "data_otp {'status': False, 'scam': False, 'otp_code': None}\n",
      "{'ResponseCode': 1, 'Msg': 'Chưa nhận được code', 'Result': {'Cost': 0.7}}\n",
      "data_otp {'status': False, 'scam': False, 'otp_code': None}\n",
      "{'ResponseCode': 1, 'Msg': 'Chưa nhận được code', 'Result': {'Cost': 0.7}}\n",
      "data_otp {'status': False, 'scam': False, 'otp_code': None}\n",
      "{'ResponseCode': 1, 'Msg': 'Chưa nhận được code', 'Result': {'Cost': 0.7}}\n",
      "data_otp {'status': False, 'scam': False, 'otp_code': None}\n",
      "{'ResponseCode': 1, 'Msg': 'Chưa nhận được code', 'Result': {'Cost': 0.7}}\n",
      "data_otp {'status': False, 'scam': False, 'otp_code': None}\n",
      "{'ResponseCode': 1, 'Msg': 'Chưa nhận được code', 'Result': {'Cost': 0.7}}\n",
      "data_otp {'status': False, 'scam': False, 'otp_code': None}\n",
      "{'ResponseCode': 1, 'Msg': 'Chưa nhận được code', 'Result': {'Cost': 0.7}}\n",
      "data_otp {'status': False, 'scam': False, 'otp_code': None}\n",
      "{'ResponseCode': 1, 'Msg': 'Chưa nhận được code', 'Result': {'Cost': 0.7}}\n",
      "data_otp {'status': False, 'scam': False, 'otp_code': None}\n",
      "{'ResponseCode': 1, 'Msg': 'Chưa nhận được code', 'Result': {'Cost': 0.7}}\n",
      "data_otp {'status': False, 'scam': False, 'otp_code': None}\n",
      "{'ResponseCode': 1, 'Msg': 'Chưa nhận được code', 'Result': {'Cost': 0.7}}\n",
      "data_otp {'status': False, 'scam': False, 'otp_code': None}\n",
      "{'ResponseCode': 1, 'Msg': 'Chưa nhận được code', 'Result': {'Cost': 0.7}}\n",
      "data_otp {'status': False, 'scam': False, 'otp_code': None}\n",
      "{'ResponseCode': 1, 'Msg': 'Chưa nhận được code', 'Result': {'Cost': 0.7}}\n",
      "data_otp {'status': False, 'scam': False, 'otp_code': None}\n",
      "{'ResponseCode': 1, 'Msg': 'Chưa nhận được code', 'Result': {'Cost': 0.7}}\n",
      "data_otp {'status': False, 'scam': False, 'otp_code': None}\n",
      "{'ResponseCode': 1, 'Msg': 'Chưa nhận được code', 'Result': {'Cost': 0.7}}\n",
      "data_otp {'status': False, 'scam': False, 'otp_code': None}\n",
      "{'ResponseCode': 1, 'Msg': 'Chưa nhận được code', 'Result': {'Cost': 0.7}}\n",
      "data_otp {'status': False, 'scam': False, 'otp_code': None}\n",
      "{'ResponseCode': 1, 'Msg': 'Chưa nhận được code', 'Result': {'Cost': 0.7}}\n",
      "data_otp {'status': False, 'scam': False, 'otp_code': None}\n",
      "{'ResponseCode': 1, 'Msg': 'Chưa nhận được code', 'Result': {'Cost': 0.7}}\n",
      "data_otp {'status': False, 'scam': False, 'otp_code': None}\n",
      "{'ResponseCode': 1, 'Msg': 'Chưa nhận được code', 'Result': {'Cost': 0.7}}\n",
      "data_otp {'status': False, 'scam': False, 'otp_code': None}\n",
      "{'ResponseCode': 1, 'Msg': 'Chưa nhận được code', 'Result': {'Cost': 0.7}}\n",
      "data_otp {'status': False, 'scam': False, 'otp_code': None}\n",
      "{'ResponseCode': 1, 'Msg': 'Chưa nhận được code', 'Result': {'Cost': 0.7}}\n",
      "data_otp {'status': False, 'scam': False, 'otp_code': None}\n",
      "{'ResponseCode': 1, 'Msg': 'Chưa nhận được code', 'Result': {'Cost': 0.7}}\n",
      "data_otp {'status': False, 'scam': False, 'otp_code': None}\n",
      "{'ResponseCode': 1, 'Msg': 'Chưa nhận được code', 'Result': {'Cost': 0.7}}\n",
      "data_otp {'status': False, 'scam': False, 'otp_code': None}\n",
      "{'ResponseCode': 1, 'Msg': 'Chưa nhận được code', 'Result': {'Cost': 0.7}}\n",
      "data_otp {'status': False, 'scam': False, 'otp_code': None}\n",
      "{'ResponseCode': 1, 'Msg': 'Chưa nhận được code', 'Result': {'Cost': 0.7}}\n",
      "data_otp {'status': False, 'scam': False, 'otp_code': None}\n",
      "{'ResponseCode': 1, 'Msg': 'Chưa nhận được code', 'Result': {'Cost': 0.7}}\n",
      "data_otp {'status': False, 'scam': False, 'otp_code': None}\n",
      "{'ResponseCode': 1, 'Msg': 'Chưa nhận được code', 'Result': {'Cost': 0.7}}\n",
      "data_otp {'status': False, 'scam': False, 'otp_code': None}\n",
      "{'ResponseCode': 1, 'Msg': 'Chưa nhận được code', 'Result': {'Cost': 0.7}}\n",
      "data_otp {'status': False, 'scam': False, 'otp_code': None}\n",
      "{'ResponseCode': 1, 'Msg': 'Chưa nhận được code', 'Result': {'Cost': 0.7}}\n",
      "data_otp {'status': False, 'scam': False, 'otp_code': None}\n",
      "{'ResponseCode': 1, 'Msg': 'Chưa nhận được code', 'Result': {'Cost': 0.7}}\n",
      "data_otp {'status': False, 'scam': False, 'otp_code': None}\n",
      "{'ResponseCode': 1, 'Msg': 'Chưa nhận được code', 'Result': {'Cost': 0.7}}\n",
      "data_otp {'status': False, 'scam': False, 'otp_code': None}\n",
      "{'ResponseCode': 1, 'Msg': 'Chưa nhận được code', 'Result': {'Cost': 0.7}}\n",
      "data_otp {'status': False, 'scam': False, 'otp_code': None}\n",
      "{'ResponseCode': 1, 'Msg': 'Chưa nhận được code', 'Result': {'Cost': 0.7}}\n",
      "data_otp {'status': False, 'scam': False, 'otp_code': None}\n",
      "{'ResponseCode': 1, 'Msg': 'Chưa nhận được code', 'Result': {'Cost': 0.7}}\n",
      "data_otp {'status': False, 'scam': False, 'otp_code': None}\n",
      "{'ResponseCode': 1, 'Msg': 'Chưa nhận được code', 'Result': {'Cost': 0.7}}\n",
      "data_otp {'status': False, 'scam': False, 'otp_code': None}\n",
      "{'ResponseCode': 1, 'Msg': 'Chưa nhận được code', 'Result': {'Cost': 0.7}}\n",
      "data_otp {'status': False, 'scam': False, 'otp_code': None}\n",
      "{'ResponseCode': 1, 'Msg': 'Chưa nhận được code', 'Result': {'Cost': 0.7}}\n",
      "data_otp {'status': False, 'scam': False, 'otp_code': None}\n",
      "{'ResponseCode': 1, 'Msg': 'Chưa nhận được code', 'Result': {'Cost': 0.7}}\n",
      "data_otp {'status': False, 'scam': False, 'otp_code': None}\n",
      "{'ResponseCode': 1, 'Msg': 'Chưa nhận được code', 'Result': {'Cost': 0.7}}\n",
      "data_otp {'status': False, 'scam': False, 'otp_code': None}\n",
      "{'ResponseCode': 1, 'Msg': 'Chưa nhận được code', 'Result': {'Cost': 0.7}}\n",
      "data_otp {'status': False, 'scam': False, 'otp_code': None}\n",
      "{'ResponseCode': 1, 'Msg': 'Chưa nhận được code', 'Result': {'Cost': 0.7}}\n",
      "data_otp {'status': False, 'scam': False, 'otp_code': None}\n"
     ]
    },
    {
     "name": "stdout",
     "output_type": "stream",
     "text": [
      "{'ResponseCode': 1, 'Msg': 'Chưa nhận được code', 'Result': {'Cost': 0.7}}\n",
      "data_otp {'status': False, 'scam': False, 'otp_code': None}\n",
      "{'ResponseCode': 1, 'Msg': 'Chưa nhận được code', 'Result': {'Cost': 0.7}}\n",
      "data_otp {'status': False, 'scam': False, 'otp_code': None}\n",
      "{'ResponseCode': 1, 'Msg': 'Chưa nhận được code', 'Result': {'Cost': 0.7}}\n",
      "data_otp {'status': False, 'scam': False, 'otp_code': None}\n",
      "{'ResponseCode': 1, 'Msg': 'Chưa nhận được code', 'Result': {'Cost': 0.7}}\n",
      "data_otp {'status': False, 'scam': False, 'otp_code': None}\n",
      "{'ResponseCode': 1, 'Msg': 'Chưa nhận được code', 'Result': {'Cost': 0.7}}\n",
      "data_otp {'status': False, 'scam': False, 'otp_code': None}\n",
      "{'ResponseCode': 1, 'Msg': 'Chưa nhận được code', 'Result': {'Cost': 0.7}}\n",
      "data_otp {'status': False, 'scam': False, 'otp_code': None}\n",
      "{'ResponseCode': 1, 'Msg': 'Chưa nhận được code', 'Result': {'Cost': 0.7}}\n",
      "data_otp {'status': False, 'scam': False, 'otp_code': None}\n",
      "{'ResponseCode': 1, 'Msg': 'Chưa nhận được code', 'Result': {'Cost': 0.7}}\n",
      "data_otp {'status': False, 'scam': False, 'otp_code': None}\n",
      "{'ResponseCode': 1, 'Msg': 'Chưa nhận được code', 'Result': {'Cost': 0.7}}\n",
      "data_otp {'status': False, 'scam': False, 'otp_code': None}\n",
      "{'ResponseCode': 1, 'Msg': 'Chưa nhận được code', 'Result': {'Cost': 0.7}}\n",
      "data_otp {'status': False, 'scam': False, 'otp_code': None}\n",
      "{'ResponseCode': 1, 'Msg': 'Chưa nhận được code', 'Result': {'Cost': 0.7}}\n",
      "data_otp {'status': False, 'scam': False, 'otp_code': None}\n",
      "{'ResponseCode': 1, 'Msg': 'Chưa nhận được code', 'Result': {'Cost': 0.7}}\n",
      "data_otp {'status': False, 'scam': False, 'otp_code': None}\n",
      "{'ResponseCode': 1, 'Msg': 'Chưa nhận được code', 'Result': {'Cost': 0.7}}\n",
      "data_otp {'status': False, 'scam': False, 'otp_code': None}\n",
      "{'ResponseCode': 1, 'Msg': 'Chưa nhận được code', 'Result': {'Cost': 0.7}}\n",
      "data_otp {'status': False, 'scam': False, 'otp_code': None}\n",
      "{'ResponseCode': 1, 'Msg': 'Chưa nhận được code', 'Result': {'Cost': 0.7}}\n",
      "data_otp {'status': False, 'scam': False, 'otp_code': None}\n",
      "{'ResponseCode': 1, 'Msg': 'Chưa nhận được code', 'Result': {'Cost': 0.7}}\n",
      "data_otp {'status': False, 'scam': False, 'otp_code': None}\n",
      "{'ResponseCode': 1, 'Msg': 'Chưa nhận được code', 'Result': {'Cost': 0.7}}\n",
      "data_otp {'status': False, 'scam': False, 'otp_code': None}\n",
      "{'ResponseCode': 1, 'Msg': 'Chưa nhận được code', 'Result': {'Cost': 0.7}}\n",
      "data_otp {'status': False, 'scam': False, 'otp_code': None}\n",
      "{'ResponseCode': 1, 'Msg': 'Chưa nhận được code', 'Result': {'Cost': 0.7}}\n",
      "data_otp {'status': False, 'scam': False, 'otp_code': None}\n",
      "{'ResponseCode': 1, 'Msg': 'Chưa nhận được code', 'Result': {'Cost': 0.7}}\n",
      "data_otp {'status': False, 'scam': False, 'otp_code': None}\n",
      "{'ResponseCode': 1, 'Msg': 'Chưa nhận được code', 'Result': {'Cost': 0.7}}\n",
      "data_otp {'status': False, 'scam': False, 'otp_code': None}\n",
      "{'ResponseCode': 1, 'Msg': 'Chưa nhận được code', 'Result': {'Cost': 0.7}}\n",
      "data_otp {'status': False, 'scam': False, 'otp_code': None}\n",
      "{'ResponseCode': 1, 'Msg': 'Chưa nhận được code', 'Result': {'Cost': 0.7}}\n",
      "data_otp {'status': False, 'scam': False, 'otp_code': None}\n",
      "{'ResponseCode': 1, 'Msg': 'Chưa nhận được code', 'Result': {'Cost': 0.7}}\n",
      "data_otp {'status': False, 'scam': False, 'otp_code': None}\n",
      "{'ResponseCode': 1, 'Msg': 'Chưa nhận được code', 'Result': {'Cost': 0.7}}\n",
      "data_otp {'status': False, 'scam': False, 'otp_code': None}\n",
      "{'ResponseCode': 1, 'Msg': 'Chưa nhận được code', 'Result': {'Cost': 0.7}}\n",
      "data_otp {'status': False, 'scam': False, 'otp_code': None}\n",
      "{'ResponseCode': 1, 'Msg': 'Chưa nhận được code', 'Result': {'Cost': 0.7}}\n",
      "data_otp {'status': False, 'scam': False, 'otp_code': None}\n",
      "{'ResponseCode': 1, 'Msg': 'Chưa nhận được code', 'Result': {'Cost': 0.7}}\n",
      "data_otp {'status': False, 'scam': False, 'otp_code': None}\n",
      "{'ResponseCode': 1, 'Msg': 'Chưa nhận được code', 'Result': {'Cost': 0.7}}\n",
      "data_otp {'status': False, 'scam': False, 'otp_code': None}\n",
      "{'ResponseCode': 1, 'Msg': 'Chưa nhận được code', 'Result': {'Cost': 0.7}}\n",
      "data_otp {'status': False, 'scam': False, 'otp_code': None}\n",
      "{'ResponseCode': 1, 'Msg': 'Chưa nhận được code', 'Result': {'Cost': 0.7}}\n",
      "data_otp {'status': False, 'scam': False, 'otp_code': None}\n",
      "{'ResponseCode': 1, 'Msg': 'Chưa nhận được code', 'Result': {'Cost': 0.7}}\n",
      "data_otp {'status': False, 'scam': False, 'otp_code': None}\n",
      "{'ResponseCode': 1, 'Msg': 'Chưa nhận được code', 'Result': {'Cost': 0.7}}\n",
      "data_otp {'status': False, 'scam': False, 'otp_code': None}\n",
      "{'ResponseCode': 1, 'Msg': 'Chưa nhận được code', 'Result': {'Cost': 0.7}}\n",
      "data_otp {'status': False, 'scam': False, 'otp_code': None}\n",
      "{'ResponseCode': 1, 'Msg': 'Chưa nhận được code', 'Result': {'Cost': 0.7}}\n",
      "data_otp {'status': False, 'scam': False, 'otp_code': None}\n",
      "{'ResponseCode': 1, 'Msg': 'Chưa nhận được code', 'Result': {'Cost': 0.7}}\n",
      "data_otp {'status': False, 'scam': False, 'otp_code': None}\n",
      "{'ResponseCode': 1, 'Msg': 'Chưa nhận được code', 'Result': {'Cost': 0.7}}\n",
      "data_otp {'status': False, 'scam': False, 'otp_code': None}\n",
      "{'ResponseCode': 1, 'Msg': 'Chưa nhận được code', 'Result': {'Cost': 0.7}}\n",
      "data_otp {'status': False, 'scam': False, 'otp_code': None}\n",
      "{'ResponseCode': 1, 'Msg': 'Chưa nhận được code', 'Result': {'Cost': 0.7}}\n",
      "data_otp {'status': False, 'scam': False, 'otp_code': None}\n",
      "{'ResponseCode': 1, 'Msg': 'Chưa nhận được code', 'Result': {'Cost': 0.7}}\n",
      "data_otp {'status': False, 'scam': False, 'otp_code': None}\n",
      "{'ResponseCode': 1, 'Msg': 'Chưa nhận được code', 'Result': {'Cost': 0.7}}\n",
      "data_otp {'status': False, 'scam': False, 'otp_code': None}\n",
      "{'ResponseCode': 1, 'Msg': 'Chưa nhận được code', 'Result': {'Cost': 0.7}}\n",
      "data_otp {'status': False, 'scam': False, 'otp_code': None}\n",
      "{'ResponseCode': 1, 'Msg': 'Chưa nhận được code', 'Result': {'Cost': 0.7}}\n",
      "data_otp {'status': False, 'scam': False, 'otp_code': None}\n",
      "{'ResponseCode': 1, 'Msg': 'Chưa nhận được code', 'Result': {'Cost': 0.7}}\n",
      "data_otp {'status': False, 'scam': False, 'otp_code': None}\n",
      "{'ResponseCode': 1, 'Msg': 'Chưa nhận được code', 'Result': {'Cost': 0.7}}\n",
      "data_otp {'status': False, 'scam': False, 'otp_code': None}\n",
      "{'ResponseCode': 1, 'Msg': 'Chưa nhận được code', 'Result': {'Cost': 0.7}}\n",
      "data_otp {'status': False, 'scam': False, 'otp_code': None}\n",
      "{'ResponseCode': 1, 'Msg': 'Chưa nhận được code', 'Result': {'Cost': 0.7}}\n",
      "data_otp {'status': False, 'scam': False, 'otp_code': None}\n",
      "{'ResponseCode': 1, 'Msg': 'Chưa nhận được code', 'Result': {'Cost': 0.7}}\n",
      "data_otp {'status': False, 'scam': False, 'otp_code': None}\n"
     ]
    },
    {
     "ename": "KeyboardInterrupt",
     "evalue": "",
     "output_type": "error",
     "traceback": [
      "\u001b[1;31m---------------------------------------------------------------------------\u001b[0m",
      "\u001b[1;31mKeyboardInterrupt\u001b[0m                         Traceback (most recent call last)",
      "\u001b[1;32m<ipython-input-97-50828e2b6938>\u001b[0m in \u001b[0;36m<module>\u001b[1;34m\u001b[0m\n\u001b[0;32m     16\u001b[0m             \u001b[0msleep\u001b[0m\u001b[1;33m(\u001b[0m\u001b[1;36m1\u001b[0m\u001b[1;33m)\u001b[0m\u001b[1;33m\u001b[0m\u001b[1;33m\u001b[0m\u001b[0m\n\u001b[0;32m     17\u001b[0m     \u001b[1;32melse\u001b[0m\u001b[1;33m:\u001b[0m\u001b[1;33m\u001b[0m\u001b[1;33m\u001b[0m\u001b[0m\n\u001b[1;32m---> 18\u001b[1;33m         \u001b[0msleep\u001b[0m\u001b[1;33m(\u001b[0m\u001b[1;36m1\u001b[0m\u001b[1;33m)\u001b[0m\u001b[1;33m\u001b[0m\u001b[1;33m\u001b[0m\u001b[0m\n\u001b[0m",
      "\u001b[1;31mKeyboardInterrupt\u001b[0m: "
     ]
    }
   ],
   "source": [
    "self.request_id = data_phone_number[\"data\"][\"request_id\"]\n",
    "WebDriverWait(self.driver, 60).until(EC.presence_of_element_located((By.NAME, 'code')))\n",
    "# wait otp\n",
    "otp_code = \"\"\n",
    "for index in range(62*5 if SITE_TEXTNOW == \"0\" else 50*5):\n",
    "    data_otp = get_otp_codetextnow(API_KEY,self.request_id) if SITE_TEXTNOW == \"0\" else get_code_from_phone_number_chothuesimcode(API_KEY,self.request_id)\n",
    "    print(\"data_otp\",data_otp)\n",
    "\n",
    "    if index == 70 or index == 200:\n",
    "        WebDriverWait(self.driver, 10).until(EC.presence_of_element_located((By.CLASS_NAME, 'a-link-normal.cvf-widget-btn-val.cvf-widget-link-collect-resend.cvf-widget-link-disable-target'))).click()\n",
    "    if data_otp[\"status\"]:\n",
    "        otp_code = data_otp[\"otp_code\"]\n",
    "        if otp_code != \"\":\n",
    "            break\n",
    "        else:\n",
    "            sleep(1)\n",
    "    else:\n",
    "        sleep(1)"
   ]
  },
  {
   "cell_type": "code",
   "execution_count": 87,
   "id": "07063c7f",
   "metadata": {},
   "outputs": [
    {
     "data": {
      "text/plain": [
       "'54dff813'"
      ]
     },
     "execution_count": 87,
     "metadata": {},
     "output_type": "execute_result"
    }
   ],
   "source": [
    "API_KEY"
   ]
  },
  {
   "cell_type": "code",
   "execution_count": null,
   "id": "3fb46c20",
   "metadata": {},
   "outputs": [],
   "source": [
    "\n",
    "def get_code_from_phone_number_chothuesimcode(otpsim_token,session):\n",
    "    r = requests.get(\n",
    "        f\"https://chothuesimcode.com/api?act=code&apik={otpsim_token}&id={session}\")\n",
    "    try:\n",
    "        print(r.json())\n",
    "    except:\n",
    "        pass\n",
    "    if r.status_code == 200:\n",
    "        if r.json()[\"ResponseCode\"] == 0:\n",
    "            data = r.json()[\"Result\"]\n",
    "            otp_code = data['Code']\n",
    "            message = data['SMS']\n",
    "            print(message)\n",
    "            if otp_code != None:\n",
    "                return {'status': True, 'otp_code': otp_code}\n",
    "        elif r.json()[\"ResponseCode\"] == 3:\n",
    "            cancel_phone_number_chothuesimcode(session)\n",
    "            return {'status': False, 'scam': True, 'otp_code': None}\n",
    "        # elif status_code == 203:\n",
    "        #     return {'status': False, 'otp_code': None}\n",
    "    else:\n",
    "        print(\"HET TIEN\")\n",
    "    return {'status': False, 'scam': False, 'otp_code': None}"
   ]
  },
  {
   "cell_type": "code",
   "execution_count": null,
   "id": "bd02d4a2",
   "metadata": {},
   "outputs": [],
   "source": []
  },
  {
   "cell_type": "code",
   "execution_count": 11,
   "id": "734f3e62",
   "metadata": {},
   "outputs": [
    {
     "name": "stdout",
     "output_type": "stream",
     "text": [
      "Mozilla/5.0 (Linux; U; Android 4.1.2; pt-pt; Archos 80 Xenon Build/JZO54K) AppleWebKit/534.30 (KHTML, like Gecko) Version/4.0 Safari/534.30\n"
     ]
    }
   ],
   "source": [
    "\n",
    "from selenium import webdriver\n",
    "\n",
    "profile = webdriver.FirefoxProfile()\n",
    "\n",
    "# Socks5 Host SetUp:-\n",
    "myProxy = \"192.168.21.122:5001\"\n",
    "ip, port = myProxy.split(':')\n",
    "firefox_capabilities = webdriver.DesiredCapabilities.FIREFOX\n",
    "firefox_capabilities['marionette'] = True\n",
    "user_agent = user_agents[\"android\"][randint(0,len(user_agents[\"android\"])-1)]\n",
    "print(user_agent)\n",
    "profile.set_preference(\"general.useragent.override\",user_agent)\n",
    "profile.set_preference('network.proxy.type', 1)\n",
    "profile.set_preference('network.proxy.socks', ip)\n",
    "profile.set_preference('network.proxy.socks_port', int(port))\n",
    "profile.set_preference(\"dom.webdriver.enabled\", False)\n",
    "profile.set_preference(\"webdriver_enable_native_events\", False)\n",
    "profile.set_preference(\"webdriver_assume_untrusted_issuer\", False)\n",
    "profile.set_preference(\"media.peerconnection.enabled\", False)\n",
    "profile.set_preference(\"media.navigator.permission.disabled\", False)\n",
    "driver = webdriver.Firefox(firefox_profile=profile,capabilities=firefox_capabilities)"
   ]
  },
  {
   "cell_type": "code",
   "execution_count": null,
   "id": "a0b6a1af",
   "metadata": {},
   "outputs": [],
   "source": []
  },
  {
   "cell_type": "code",
   "execution_count": 45,
   "id": "4466c288",
   "metadata": {},
   "outputs": [],
   "source": [
    "otpsim_token = \"54dff813\""
   ]
  },
  {
   "cell_type": "code",
   "execution_count": null,
   "id": "72b4f3ea",
   "metadata": {},
   "outputs": [],
   "source": []
  },
  {
   "cell_type": "code",
   "execution_count": null,
   "id": "4849c54e",
   "metadata": {},
   "outputs": [],
   "source": []
  },
  {
   "cell_type": "code",
   "execution_count": 46,
   "id": "62706750",
   "metadata": {},
   "outputs": [],
   "source": [
    "\n",
    "def get_code_from_phone_number_chothuesimcode(otpsim_token,session):\n",
    "    r = requests.get(\n",
    "        f\"https://chothuesimcode.com/api?act=code&apik={otpsim_token}&id={session}\")\n",
    "    try:\n",
    "        print(r.json())\n",
    "    except:\n",
    "        pass\n",
    "    if r.status_code == 200:\n",
    "        if r.json()[\"ResponseCode\"] == 0:\n",
    "            data = r.json()[\"Result\"]\n",
    "            otp_code = data['Code']\n",
    "            message = data['SMS']\n",
    "            print(message)\n",
    "            if otp_code != None:\n",
    "                return {'status': True, 'otp_code': otp_code}\n",
    "        elif r.json()[\"ResponseCode\"] == 3:\n",
    "            cancel_phone_number_chothuesimcode(session)\n",
    "            return {'status': False, 'scam': True, 'otp_code': None}\n",
    "        # elif status_code == 203:\n",
    "        #     return {'status': False, 'otp_code': None}\n",
    "    else:\n",
    "        print(\"HET TIEN\")\n",
    "    return {'status': False, 'scam': False, 'otp_code': None}\n",
    "    \n",
    "\n",
    "def get_phone_number_chothuesimcode(otpsim_token):\n",
    "    url = f\"https://chothuesimcode.com/api?act=number&apik={otpsim_token}&appId=1095&carrier=Viettel,Mobi,Vina\"\n",
    "    r = requests.get(url)\n",
    "    rs = {'status': False,\n",
    "          'data': {'phone_number': None,\n",
    "                   'session': None}}\n",
    "    if r.status_code == 200:\n",
    "        if r.json()[\"ResponseCode\"] == 0:\n",
    "            data = r.json()[\"Result\"]\n",
    "            session = data[\"Id\"]\n",
    "            phone_number = data[\"Number\"]\n",
    "            if phone_number[0] != \"0\":\n",
    "                phone_number = \"0\" + phone_number\n",
    "            rs['status'] = True\n",
    "            rs['data'] = {\n",
    "                'phone_number': phone_number,\n",
    "                'request_id': session\n",
    "            }\n",
    "            return rs\n",
    "    return rs\n",
    "\n",
    "def cancel_phone_number_chothuesimcode(otpsim_token,session):\n",
    "    r = requests.get(\n",
    "        f\"https://chothuesimcode.com/api?act=expired&apik={otpsim_token}&id={session}\")\n",
    "    if r.status_code == 200:\n",
    "        return {'status': True}\n",
    "    return {'status': False}"
   ]
  },
  {
   "cell_type": "code",
   "execution_count": 77,
   "id": "1a32bdf1",
   "metadata": {},
   "outputs": [],
   "source": [
    "def get_phone_helper(number_of_loops=30):\n",
    "    self.is_vi =  \"us\" if SITE_TEXTNOW == \"0\" else \"vi\"\n",
    "    for _ in range(number_of_loops):\n",
    "\n",
    "        data_phone_number = get_phone_number_codetextnow(API_KEY) if SITE_TEXTNOW == \"0\" else get_phone_number_chothuesimcode(API_KEY)\n",
    "        if data_phone_number[\"status\"]:\n",
    "            if is_exits_phone_number(data_phone_number[\"data\"][\"phone_number\"],self.is_vi):\n",
    "                return data_phone_number\n",
    "            else:\n",
    "                write_file_helper(\"phone_exits.txt\",data_phone_number[\"data\"][\"phone_number\"])\n",
    "        sleep(1)\n",
    "    return data_phone_number"
   ]
  },
  {
   "cell_type": "code",
   "execution_count": 79,
   "id": "2f5a1b43",
   "metadata": {},
   "outputs": [
    {
     "name": "stdout",
     "output_type": "stream",
     "text": [
      "KHONG 0363914346\n"
     ]
    },
    {
     "data": {
      "text/plain": [
       "{'status': True,\n",
       " 'data': {'phone_number': '0363914346', 'request_id': 196713231}}"
      ]
     },
     "execution_count": 79,
     "metadata": {},
     "output_type": "execute_result"
    }
   ],
   "source": [
    "get_phone_helper()"
   ]
  },
  {
   "cell_type": "code",
   "execution_count": 81,
   "id": "b91e7c79",
   "metadata": {},
   "outputs": [],
   "source": [
    "self.phone_number = data_phone_number[\"data\"][\"phone_number\"]\n",
    "self.request_id = data_phone_number[\"data\"][\"request_id\"]\n",
    "WebDriverWait(self.driver, 10).until(EC.presence_of_element_located((By.NAME, 'cvf_phone_num'))).send_keys(self.phone_number)\n",
    "WebDriverWait(self.driver, 10).until(EC.presence_of_element_located((By.NAME, 'cvf_action'))).click()"
   ]
  },
  {
   "cell_type": "code",
   "execution_count": 82,
   "id": "b2941e56",
   "metadata": {},
   "outputs": [
    {
     "data": {
      "text/plain": [
       "'vi'"
      ]
     },
     "execution_count": 82,
     "metadata": {},
     "output_type": "execute_result"
    }
   ],
   "source": [
    "self.is_vi"
   ]
  },
  {
   "cell_type": "code",
   "execution_count": null,
   "id": "5b7575e6",
   "metadata": {},
   "outputs": [],
   "source": []
  },
  {
   "cell_type": "code",
   "execution_count": null,
   "id": "443ac317",
   "metadata": {},
   "outputs": [],
   "source": []
  },
  {
   "cell_type": "code",
   "execution_count": 53,
   "id": "a36128db",
   "metadata": {},
   "outputs": [],
   "source": [
    "SITE_TEXTNOW = \"1\""
   ]
  },
  {
   "cell_type": "code",
   "execution_count": 54,
   "id": "671bcf2a",
   "metadata": {},
   "outputs": [],
   "source": [
    "self.is_vi =  \"us\" if SITE_TEXTNOW == \"0\" else \"vi\""
   ]
  },
  {
   "cell_type": "code",
   "execution_count": 55,
   "id": "532c73dd",
   "metadata": {},
   "outputs": [
    {
     "data": {
      "text/plain": [
       "'vi'"
      ]
     },
     "execution_count": 55,
     "metadata": {},
     "output_type": "execute_result"
    }
   ],
   "source": [
    "self.is_vi "
   ]
  },
  {
   "cell_type": "code",
   "execution_count": 49,
   "id": "9f745f52",
   "metadata": {},
   "outputs": [],
   "source": [
    "API_KEY = \"54dff813\""
   ]
  },
  {
   "cell_type": "code",
   "execution_count": 50,
   "id": "13aa5294",
   "metadata": {},
   "outputs": [],
   "source": [
    "data_phone_number = get_phone_number_chothuesimcode(API_KEY)\n"
   ]
  },
  {
   "cell_type": "code",
   "execution_count": 56,
   "id": "2a5adcf4",
   "metadata": {},
   "outputs": [
    {
     "data": {
      "text/plain": [
       "{'status': True,\n",
       " 'data': {'phone_number': '0816445329', 'request_id': 196678935}}"
      ]
     },
     "execution_count": 56,
     "metadata": {},
     "output_type": "execute_result"
    }
   ],
   "source": [
    "data_phone_number"
   ]
  },
  {
   "cell_type": "code",
   "execution_count": 52,
   "id": "787f629b",
   "metadata": {},
   "outputs": [
    {
     "name": "stdout",
     "output_type": "stream",
     "text": [
      "KHONG 0816445329\n"
     ]
    },
    {
     "data": {
      "text/plain": [
       "True"
      ]
     },
     "execution_count": 52,
     "metadata": {},
     "output_type": "execute_result"
    }
   ],
   "source": [
    "is_exits_phone_number(data_phone_number[\"data\"][\"phone_number\"])"
   ]
  },
  {
   "cell_type": "code",
   "execution_count": null,
   "id": "bbb8d7c4",
   "metadata": {},
   "outputs": [],
   "source": []
  },
  {
   "cell_type": "code",
   "execution_count": null,
   "id": "b45a2637",
   "metadata": {},
   "outputs": [],
   "source": []
  },
  {
   "cell_type": "code",
   "execution_count": null,
   "id": "fc99cfdf",
   "metadata": {},
   "outputs": [],
   "source": []
  },
  {
   "cell_type": "code",
   "execution_count": null,
   "id": "81e4a76a",
   "metadata": {},
   "outputs": [],
   "source": [
    "get_code_from_phone_number_chothuesimcode(\"195340686\")"
   ]
  },
  {
   "cell_type": "code",
   "execution_count": null,
   "id": "805cc149",
   "metadata": {},
   "outputs": [],
   "source": [
    "otp_code = \"720852\""
   ]
  },
  {
   "cell_type": "code",
   "execution_count": null,
   "id": "018b798d",
   "metadata": {},
   "outputs": [],
   "source": [
    "WebDriverWait(self.driver, 60).until(EC.presence_of_element_located((By.NAME, 'code'))).send_keys(otp_code)\n",
    "WebDriverWait(self.driver, 10).until(EC.presence_of_element_located((By.NAME, 'cvf_action'))).click()"
   ]
  },
  {
   "cell_type": "code",
   "execution_count": null,
   "id": "ae706948",
   "metadata": {},
   "outputs": [],
   "source": [
    "# ref_= url sau khi reg xong"
   ]
  },
  {
   "cell_type": "code",
   "execution_count": null,
   "id": "900ec2af",
   "metadata": {},
   "outputs": [],
   "source": [
    "# buy item\n",
    "self.driver.find_element_by_id(\"add-to-cart-button\").click()"
   ]
  },
  {
   "cell_type": "code",
   "execution_count": null,
   "id": "9fc3d675",
   "metadata": {},
   "outputs": [],
   "source": [
    "self.driver.find_elements_by_id(\"submit.add-to-cart-announce\")"
   ]
  },
  {
   "cell_type": "code",
   "execution_count": null,
   "id": "8a78ee12",
   "metadata": {},
   "outputs": [],
   "source": [
    "self.driver.find_element_by_class_name(\"submit.add-to-cart-announce\").click()"
   ]
  },
  {
   "cell_type": "code",
   "execution_count": null,
   "id": "97c01fb8",
   "metadata": {},
   "outputs": [],
   "source": []
  },
  {
   "cell_type": "code",
   "execution_count": null,
   "id": "dc090571",
   "metadata": {},
   "outputs": [],
   "source": []
  },
  {
   "cell_type": "code",
   "execution_count": null,
   "id": "f5e9ec1c",
   "metadata": {},
   "outputs": [],
   "source": [
    " Austin, TX "
   ]
  },
  {
   "cell_type": "code",
   "execution_count": null,
   "id": "4093348b",
   "metadata": {},
   "outputs": [],
   "source": [
    "ProxyAPI.exe -changeproxy/US/TX/\"Austin\" -proxyport=5001"
   ]
  },
  {
   "cell_type": "code",
   "execution_count": null,
   "id": "63818cb0",
   "metadata": {},
   "outputs": [],
   "source": [
    "proceedToRetailCheckout"
   ]
  },
  {
   "cell_type": "code",
   "execution_count": null,
   "id": "4f7052d9",
   "metadata": {},
   "outputs": [],
   "source": []
  },
  {
   "cell_type": "code",
   "execution_count": null,
   "id": "956a1fa3",
   "metadata": {},
   "outputs": [],
   "source": [
    "add-to-cart-button"
   ]
  },
  {
   "cell_type": "code",
   "execution_count": null,
   "id": "295d63c7",
   "metadata": {},
   "outputs": [],
   "source": [
    "element = driver.find_element_by_link_text(\"Courses\")\n"
   ]
  },
  {
   "cell_type": "code",
   "execution_count": null,
   "id": "dd83361b",
   "metadata": {},
   "outputs": [],
   "source": [
    "self.driver.find_element_by_xpath('/html/body/div[1]/div[2]/div[8]/div[4]/div[1]/div[4]/div/div/div/div/div/form/div/div/div/div/div[9]/div[1]/span/span/span').click()"
   ]
  },
  {
   "cell_type": "code",
   "execution_count": null,
   "id": "ed9f7a2e",
   "metadata": {},
   "outputs": [],
   "source": [
    "self.driver.find"
   ]
  },
  {
   "cell_type": "code",
   "execution_count": null,
   "id": "e2056e42",
   "metadata": {},
   "outputs": [],
   "source": [
    "WebDriverWait(self.driver, 10).until(EC.presence_of_element_located((By.NAME, 'address-ui-widgets-enterAddressLine1'))).click()"
   ]
  },
  {
   "cell_type": "code",
   "execution_count": null,
   "id": "1120b4b6",
   "metadata": {},
   "outputs": [],
   "source": []
  },
  {
   "cell_type": "code",
   "execution_count": null,
   "id": "2704880c",
   "metadata": {},
   "outputs": [],
   "source": []
  },
  {
   "cell_type": "code",
   "execution_count": null,
   "id": "c1a2d031",
   "metadata": {},
   "outputs": [],
   "source": [
    "otpsim_token = \"54dff813\""
   ]
  },
  {
   "cell_type": "code",
   "execution_count": null,
   "id": "ae28759e",
   "metadata": {},
   "outputs": [],
   "source": [
    "def get_phone_number_chothuesimcode():\n",
    "    url = f\"https://chothuesimcode.com/api?act=number&apik={otpsim_token}&appId=1095&carrier=Viettel,Mobi,Vina\"\n",
    "    r = requests.get(url)\n",
    "    rs = {'status': False,\n",
    "          'data': {'phone_number': None,\n",
    "                   'session': None}}\n",
    "    if r.status_code == 200:\n",
    "        if r.json()[\"ResponseCode\"] == 0:\n",
    "            data = r.json()[\"Result\"]\n",
    "            session = data[\"Id\"]\n",
    "            phone_number = data[\"Number\"]\n",
    "            if phone_number[0] != \"0\":\n",
    "                phone_number = \"0\" + phone_number\n",
    "            rs['status'] = True\n",
    "            rs['data'] = {\n",
    "                'phone_number': phone_number,\n",
    "                'session': session\n",
    "            }\n",
    "            return rs\n",
    "    return rs"
   ]
  },
  {
   "cell_type": "code",
   "execution_count": null,
   "id": "49807f1d",
   "metadata": {},
   "outputs": [],
   "source": [
    "get_phone_number_chothuesimcode()"
   ]
  },
  {
   "cell_type": "code",
   "execution_count": null,
   "id": "01c33109",
   "metadata": {},
   "outputs": [],
   "source": [
    "self.phone_number = \"0818917305\""
   ]
  },
  {
   "cell_type": "code",
   "execution_count": null,
   "id": "6b1c4416",
   "metadata": {},
   "outputs": [],
   "source": [
    " WebDriverWait(self.driver, 10).until(EC.presence_of_element_located((By.NAME, 'cvf_phone_num'))).send_keys(self.phone_number)\n",
    "WebDriverWait(self.driver, 10).until(EC.presence_of_element_located((By.NAME, 'cvf_action'))).click()"
   ]
  },
  {
   "cell_type": "code",
   "execution_count": null,
   "id": "8e37efa9",
   "metadata": {},
   "outputs": [],
   "source": [
    "get_phone_number_chothuesimcode()"
   ]
  },
  {
   "cell_type": "code",
   "execution_count": null,
   "id": "346ea659",
   "metadata": {},
   "outputs": [],
   "source": [
    "def cancel_phone_number_chothuesimcode(self, session):\n",
    "    r = requests.get(\n",
    "        f\"https://chothuesimcode.com/api?act=expired&apik={self.otpsim_token}&id={session}\")\n",
    "    if r.status_code == 200:\n",
    "        return {'status': True}\n",
    "    return {'status': False}"
   ]
  },
  {
   "cell_type": "code",
   "execution_count": null,
   "id": "8932dc53",
   "metadata": {},
   "outputs": [],
   "source": []
  },
  {
   "cell_type": "code",
   "execution_count": null,
   "id": "c13e3ce0",
   "metadata": {},
   "outputs": [],
   "source": [
    " WebDriverWait(self.driver, 5).until(EC.visibility_of_element_located((By.ID, \"cvf_phone_cc_native_221\"))).click()"
   ]
  },
  {
   "cell_type": "code",
   "execution_count": null,
   "id": "50f5fa52",
   "metadata": {},
   "outputs": [],
   "source": [
    "country = \"Vietnam +84\"\n",
    "WebDriverWait(self.driver, 5).until(EC.presence_of_element_located((By.XPATH, f\"//a[contains(text(), '{country}')]\"))).click()"
   ]
  },
  {
   "cell_type": "code",
   "execution_count": null,
   "id": "9e05e4b1",
   "metadata": {},
   "outputs": [],
   "source": []
  },
  {
   "cell_type": "code",
   "execution_count": 98,
   "id": "be31fdd8",
   "metadata": {},
   "outputs": [
    {
     "ename": "WebDriverException",
     "evalue": "Message: Failed to write request to stream\n",
     "output_type": "error",
     "traceback": [
      "\u001b[1;31m---------------------------------------------------------------------------\u001b[0m",
      "\u001b[1;31mWebDriverException\u001b[0m                        Traceback (most recent call last)",
      "\u001b[1;32m<ipython-input-98-e9e806287d94>\u001b[0m in \u001b[0;36m<module>\u001b[1;34m\u001b[0m\n\u001b[0;32m      1\u001b[0m \u001b[1;31m# remove sdt\u001b[0m\u001b[1;33m\u001b[0m\u001b[1;33m\u001b[0m\u001b[1;33m\u001b[0m\u001b[0m\n\u001b[0;32m      2\u001b[0m \u001b[0mself\u001b[0m\u001b[1;33m.\u001b[0m\u001b[0mhome_page_url\u001b[0m \u001b[1;33m=\u001b[0m \u001b[1;34m\"https://www.amazon.com/gp/css/homepage.html?ref_=nav_youraccount_btn\"\u001b[0m\u001b[1;33m\u001b[0m\u001b[1;33m\u001b[0m\u001b[0m\n\u001b[1;32m----> 3\u001b[1;33m \u001b[0mself\u001b[0m\u001b[1;33m.\u001b[0m\u001b[0mdriver\u001b[0m\u001b[1;33m.\u001b[0m\u001b[0mget\u001b[0m\u001b[1;33m(\u001b[0m\u001b[0mself\u001b[0m\u001b[1;33m.\u001b[0m\u001b[0mhome_page_url\u001b[0m\u001b[1;33m)\u001b[0m\u001b[1;33m\u001b[0m\u001b[1;33m\u001b[0m\u001b[0m\n\u001b[0m",
      "\u001b[1;32m~\\anaconda3\\lib\\site-packages\\selenium\\webdriver\\remote\\webdriver.py\u001b[0m in \u001b[0;36mget\u001b[1;34m(self, url)\u001b[0m\n\u001b[0;32m    330\u001b[0m         \u001b[0mLoads\u001b[0m \u001b[0ma\u001b[0m \u001b[0mweb\u001b[0m \u001b[0mpage\u001b[0m \u001b[1;32min\u001b[0m \u001b[0mthe\u001b[0m \u001b[0mcurrent\u001b[0m \u001b[0mbrowser\u001b[0m \u001b[0msession\u001b[0m\u001b[1;33m.\u001b[0m\u001b[1;33m\u001b[0m\u001b[1;33m\u001b[0m\u001b[0m\n\u001b[0;32m    331\u001b[0m         \"\"\"\n\u001b[1;32m--> 332\u001b[1;33m         \u001b[0mself\u001b[0m\u001b[1;33m.\u001b[0m\u001b[0mexecute\u001b[0m\u001b[1;33m(\u001b[0m\u001b[0mCommand\u001b[0m\u001b[1;33m.\u001b[0m\u001b[0mGET\u001b[0m\u001b[1;33m,\u001b[0m \u001b[1;33m{\u001b[0m\u001b[1;34m'url'\u001b[0m\u001b[1;33m:\u001b[0m \u001b[0murl\u001b[0m\u001b[1;33m}\u001b[0m\u001b[1;33m)\u001b[0m\u001b[1;33m\u001b[0m\u001b[1;33m\u001b[0m\u001b[0m\n\u001b[0m\u001b[0;32m    333\u001b[0m \u001b[1;33m\u001b[0m\u001b[0m\n\u001b[0;32m    334\u001b[0m     \u001b[1;33m@\u001b[0m\u001b[0mproperty\u001b[0m\u001b[1;33m\u001b[0m\u001b[1;33m\u001b[0m\u001b[0m\n",
      "\u001b[1;32m~\\anaconda3\\lib\\site-packages\\selenium\\webdriver\\remote\\webdriver.py\u001b[0m in \u001b[0;36mexecute\u001b[1;34m(self, driver_command, params)\u001b[0m\n\u001b[0;32m    318\u001b[0m         \u001b[0mresponse\u001b[0m \u001b[1;33m=\u001b[0m \u001b[0mself\u001b[0m\u001b[1;33m.\u001b[0m\u001b[0mcommand_executor\u001b[0m\u001b[1;33m.\u001b[0m\u001b[0mexecute\u001b[0m\u001b[1;33m(\u001b[0m\u001b[0mdriver_command\u001b[0m\u001b[1;33m,\u001b[0m \u001b[0mparams\u001b[0m\u001b[1;33m)\u001b[0m\u001b[1;33m\u001b[0m\u001b[1;33m\u001b[0m\u001b[0m\n\u001b[0;32m    319\u001b[0m         \u001b[1;32mif\u001b[0m \u001b[0mresponse\u001b[0m\u001b[1;33m:\u001b[0m\u001b[1;33m\u001b[0m\u001b[1;33m\u001b[0m\u001b[0m\n\u001b[1;32m--> 320\u001b[1;33m             \u001b[0mself\u001b[0m\u001b[1;33m.\u001b[0m\u001b[0merror_handler\u001b[0m\u001b[1;33m.\u001b[0m\u001b[0mcheck_response\u001b[0m\u001b[1;33m(\u001b[0m\u001b[0mresponse\u001b[0m\u001b[1;33m)\u001b[0m\u001b[1;33m\u001b[0m\u001b[1;33m\u001b[0m\u001b[0m\n\u001b[0m\u001b[0;32m    321\u001b[0m             response['value'] = self._unwrap_value(\n\u001b[0;32m    322\u001b[0m                 response.get('value', None))\n",
      "\u001b[1;32m~\\anaconda3\\lib\\site-packages\\selenium\\webdriver\\remote\\errorhandler.py\u001b[0m in \u001b[0;36mcheck_response\u001b[1;34m(self, response)\u001b[0m\n\u001b[0;32m    240\u001b[0m                 \u001b[0malert_text\u001b[0m \u001b[1;33m=\u001b[0m \u001b[0mvalue\u001b[0m\u001b[1;33m[\u001b[0m\u001b[1;34m'alert'\u001b[0m\u001b[1;33m]\u001b[0m\u001b[1;33m.\u001b[0m\u001b[0mget\u001b[0m\u001b[1;33m(\u001b[0m\u001b[1;34m'text'\u001b[0m\u001b[1;33m)\u001b[0m\u001b[1;33m\u001b[0m\u001b[1;33m\u001b[0m\u001b[0m\n\u001b[0;32m    241\u001b[0m             \u001b[1;32mraise\u001b[0m \u001b[0mexception_class\u001b[0m\u001b[1;33m(\u001b[0m\u001b[0mmessage\u001b[0m\u001b[1;33m,\u001b[0m \u001b[0mscreen\u001b[0m\u001b[1;33m,\u001b[0m \u001b[0mstacktrace\u001b[0m\u001b[1;33m,\u001b[0m \u001b[0malert_text\u001b[0m\u001b[1;33m)\u001b[0m\u001b[1;33m\u001b[0m\u001b[1;33m\u001b[0m\u001b[0m\n\u001b[1;32m--> 242\u001b[1;33m         \u001b[1;32mraise\u001b[0m \u001b[0mexception_class\u001b[0m\u001b[1;33m(\u001b[0m\u001b[0mmessage\u001b[0m\u001b[1;33m,\u001b[0m \u001b[0mscreen\u001b[0m\u001b[1;33m,\u001b[0m \u001b[0mstacktrace\u001b[0m\u001b[1;33m)\u001b[0m\u001b[1;33m\u001b[0m\u001b[1;33m\u001b[0m\u001b[0m\n\u001b[0m\u001b[0;32m    243\u001b[0m \u001b[1;33m\u001b[0m\u001b[0m\n\u001b[0;32m    244\u001b[0m     \u001b[1;32mdef\u001b[0m \u001b[0m_value_or_default\u001b[0m\u001b[1;33m(\u001b[0m\u001b[0mself\u001b[0m\u001b[1;33m,\u001b[0m \u001b[0mobj\u001b[0m\u001b[1;33m,\u001b[0m \u001b[0mkey\u001b[0m\u001b[1;33m,\u001b[0m \u001b[0mdefault\u001b[0m\u001b[1;33m)\u001b[0m\u001b[1;33m:\u001b[0m\u001b[1;33m\u001b[0m\u001b[1;33m\u001b[0m\u001b[0m\n",
      "\u001b[1;31mWebDriverException\u001b[0m: Message: Failed to write request to stream\n"
     ]
    }
   ],
   "source": [
    "# remove sdt\n",
    "self.home_page_url = \"https://www.amazon.com/gp/css/homepage.html?ref_=nav_youraccount_btn\"\n",
    "self.driver.get(self.home_page_url)\n"
   ]
  },
  {
   "cell_type": "code",
   "execution_count": null,
   "id": "e424131c",
   "metadata": {},
   "outputs": [],
   "source": []
  },
  {
   "cell_type": "code",
   "execution_count": null,
   "id": "a8c14b93",
   "metadata": {},
   "outputs": [],
   "source": [
    "def remove_phone_number():\n",
    "    self.driver.get(self.home_page_url)\n",
    "        try:\n",
    "        WebDriverWait(self.driver, 5).until(EC.presence_of_element_located((By.XPATH, '//div[@data-card-identifier=\"SignInAndSecurity\"]'))).click()\n",
    "    except:\n",
    "        pass\n",
    "    if \"signin\" in self.driver.current_url:\n",
    "        try:\n",
    "            self.driver.find_element_by_class_name(\"cvf-account-switcher-profile-image\").click()\n",
    "        except:\n",
    "            pass\n",
    "        WebDriverWait(self.driver, 5).until(EC.presence_of_element_located((By.ID, 'ap_password'))).send_keys(self.paswd)\n",
    "        self.driver.find_element_by_id(\"signInSubmit\").click()\n",
    "\n",
    "        try:\n",
    "            WebDriverWait(self.driver, 5).until(EC.presence_of_element_located((By.ID, 'ap-account-fixup-phone-skip-link'))).click()\n",
    "        except:\n",
    "            pass\n",
    "    \n",
    "    WebDriverWait(self.driver, 5).until(EC.presence_of_element_located((By.ID, 'auth-cnep-edit-phone-button'))).click()\n",
    "    \n",
    "    WebDriverWait(self.driver, 5).until(EC.presence_of_element_located((By.ID, 'ap-remove-mobile-claim-submit-button'))).click()\n"
   ]
  },
  {
   "cell_type": "code",
   "execution_count": null,
   "id": "31da9939",
   "metadata": {},
   "outputs": [],
   "source": []
  },
  {
   "cell_type": "code",
   "execution_count": null,
   "id": "7dbc9059",
   "metadata": {},
   "outputs": [],
   "source": [
    "self.driver.get(self.home_page_url)\n",
    "try:\n",
    "    WebDriverWait(self.driver, 5).until(EC.presence_of_element_located((By.XPATH, '//div[@data-card-identifier=\"SignInAndSecurity\"]'))).click()\n",
    "except:\n",
    "    pass\n",
    "if \"signin\" in self.driver.current_url:\n",
    "    try:\n",
    "        self.driver.find_element_by_class_name(\"cvf-account-switcher-profile-image\").click()\n",
    "    except:\n",
    "        pass\n",
    "    WebDriverWait(self.driver, 5).until(EC.presence_of_element_located((By.ID, 'ap_password'))).send_keys(self.password_amz)\n",
    "    self.driver.find_element_by_id(\"signInSubmit\").click()\n",
    "\n",
    "    try:\n",
    "        WebDriverWait(self.driver, 5).until(EC.presence_of_element_located((By.ID, 'ap-account-fixup-phone-skip-link'))).click()\n",
    "    except:\n",
    "        pass\n",
    "\n",
    "WebDriverWait(self.driver, 5).until(EC.presence_of_element_located((By.ID, 'auth-cnep-edit-phone-button'))).click()\n",
    "\n",
    "            # https://www.amazon.com/ap/cnep vao login and sc"
   ]
  },
  {
   "cell_type": "code",
   "execution_count": null,
   "id": "d80756d9",
   "metadata": {},
   "outputs": [],
   "source": []
  },
  {
   "cell_type": "code",
   "execution_count": null,
   "id": "2911f684",
   "metadata": {},
   "outputs": [],
   "source": [
    "WebDriverWait(self.driver, 5).until(EC.presence_of_element_located((By.ID, 'ap_delete_mobile_claim_link'))).click()\n"
   ]
  },
  {
   "cell_type": "code",
   "execution_count": null,
   "id": "8ce780dc",
   "metadata": {},
   "outputs": [],
   "source": [
    "WebDriverWait(self.driver, 5).until(EC.presence_of_element_located((By.ID, 'ap-remove-mobile-claim-submit-button'))).click()\n"
   ]
  },
  {
   "cell_type": "code",
   "execution_count": null,
   "id": "e4cb5f1c",
   "metadata": {},
   "outputs": [],
   "source": []
  },
  {
   "cell_type": "code",
   "execution_count": null,
   "id": "ef1c9980",
   "metadata": {},
   "outputs": [],
   "source": []
  },
  {
   "cell_type": "code",
   "execution_count": null,
   "id": "e74453f4",
   "metadata": {},
   "outputs": [],
   "source": [
    "# remove sdt\n",
    "# add to card\n",
    "# confirm address\n",
    "# add ccv\n",
    "# "
   ]
  },
  {
   "cell_type": "code",
   "execution_count": null,
   "id": "73a8eabf",
   "metadata": {},
   "outputs": [],
   "source": [
    "/cpe/yourpayments"
   ]
  },
  {
   "cell_type": "code",
   "execution_count": null,
   "id": "0f77d800",
   "metadata": {},
   "outputs": [],
   "source": [
    "PaymentOptions"
   ]
  },
  {
   "cell_type": "code",
   "execution_count": null,
   "id": "fdad7f0e",
   "metadata": {},
   "outputs": [],
   "source": [
    "try:\n",
    "    WebDriverWait(self.driver, 5).until(EC.presence_of_element_located((By.XPATH, '//div[@data-card-identifier=\"PaymentOptions\"]'))).click()\n",
    "except:\n",
    "    pass"
   ]
  },
  {
   "cell_type": "code",
   "execution_count": null,
   "id": "c9047078",
   "metadata": {},
   "outputs": [],
   "source": []
  },
  {
   "cell_type": "code",
   "execution_count": null,
   "id": "8839646d",
   "metadata": {},
   "outputs": [],
   "source": []
  },
  {
   "cell_type": "code",
   "execution_count": null,
   "id": "73769095",
   "metadata": {},
   "outputs": [],
   "source": []
  },
  {
   "cell_type": "code",
   "execution_count": null,
   "id": "ea0abc33",
   "metadata": {},
   "outputs": [],
   "source": []
  },
  {
   "cell_type": "code",
   "execution_count": null,
   "id": "c45585bc",
   "metadata": {},
   "outputs": [],
   "source": [
    "ppw-accountHolderName"
   ]
  },
  {
   "cell_type": "code",
   "execution_count": null,
   "id": "c7374085",
   "metadata": {},
   "outputs": [],
   "source": []
  },
  {
   "cell_type": "code",
   "execution_count": null,
   "id": "cabd95a9",
   "metadata": {},
   "outputs": [],
   "source": [
    "self.card_number = \"3117704078387577\""
   ]
  },
  {
   "cell_type": "code",
   "execution_count": null,
   "id": "a31f06af",
   "metadata": {},
   "outputs": [],
   "source": [
    "WebDriverWait(self.driver, 5).until(EC.presence_of_element_located((By.NAME, 'addCreditCardNumber'))).send_keys(self.card_number)"
   ]
  },
  {
   "cell_type": "code",
   "execution_count": null,
   "id": "151fdc2b",
   "metadata": {},
   "outputs": [],
   "source": [
    "\"iframe\""
   ]
  },
  {
   "cell_type": "code",
   "execution_count": null,
   "id": "b7dc4f22",
   "metadata": {},
   "outputs": [],
   "source": [
    "iframe_elements = self.driver.find_elements_by_tag_name(\"iframe\")"
   ]
  },
  {
   "cell_type": "code",
   "execution_count": null,
   "id": "0a92d9de",
   "metadata": {},
   "outputs": [],
   "source": [
    "self.driver.get(self.home_page_url)"
   ]
  },
  {
   "cell_type": "code",
   "execution_count": null,
   "id": "a599398a",
   "metadata": {},
   "outputs": [],
   "source": [
    "\n",
    "def choose_card(card_name):\n",
    "    try:\n",
    "        WebDriverWait(self.driver, 5).until(EC.presence_of_element_located((By.XPATH, f'//div[@data-card-identifier=\"{card_name}\"]'))).click()\n",
    "    except:\n",
    "        pass\n",
    "    sleep(randint(1,3))\n",
    "    def check_login():\n",
    "        if \"signin\" in self.driver.current_url:\n",
    "            try:\n",
    "                self.driver.find_element_by_class_name(\"cvf-account-switcher-profile-image\").click()\n",
    "            except:\n",
    "                pass\n",
    "            WebDriverWait(self.driver, 5).until(EC.presence_of_element_located((By.ID, 'ap_password'))).send_keys(self.paswd)\n",
    "            self.driver.find_element_by_id(\"signInSubmit\").click()\n",
    "\n",
    "            try:\n",
    "                WebDriverWait(self.driver, 5).until(EC.presence_of_element_located((By.ID, 'ap-account-fixup-phone-skip-link'))).click()\n",
    "            except:\n",
    "                pass\n",
    "            return True\n",
    "        else:\n",
    "            print(\"Don't find login\")\n",
    "        return False\n",
    "    return check_login()\n",
    "    "
   ]
  },
  {
   "cell_type": "code",
   "execution_count": null,
   "id": "ac9f2e21",
   "metadata": {},
   "outputs": [],
   "source": [
    "print(choose_card(\"PaymentOptions\"))"
   ]
  },
  {
   "cell_type": "code",
   "execution_count": null,
   "id": "fdcecca2",
   "metadata": {},
   "outputs": [],
   "source": []
  },
  {
   "cell_type": "code",
   "execution_count": null,
   "id": "24e691a5",
   "metadata": {},
   "outputs": [],
   "source": [
    "self.is_vi_phone_number = False\n",
    "\n",
    "def check_popup_add(timeout=30):\n",
    "    for _ in range(timeout):\n",
    "        try:\n",
    "            self.driver.switch_to_default_content()\n",
    "            self.driver.switch_to_frame(self.driver.find_element_by_tag_name(\"iframe\"))\n",
    "            self.driver.find_element_by_name(\"addCreditCardNumber\")\n",
    "            return True\n",
    "        except:\n",
    "            print(\"Waiting...\")\n",
    "            sleep(1)\n",
    "    return False\n",
    "\n",
    "\n",
    "\n",
    "def add_ccv():\n",
    "    # if remove phone => don't get\n",
    "    if not self.is_vi_phone_number:\n",
    "        self.driver.get(self.home_page_url)\n",
    "    \n",
    "    \n",
    "    if choose_card(\"PaymentOptions\"):\n",
    "        sleep(randint(3,6))\n",
    "    else:\n",
    "        sleep(randint(2,5))\n",
    "    \n",
    "    WebDriverWait(self.driver, 5).until(EC.presence_of_element_located((By.CLASS_NAME, \"a-section.apx-wallet-selectable-payment-method-tab\"))).click()\n",
    "    # click Add a credit or debit card\n",
    "    try:\n",
    "        WebDriverWait(self.driver, 5).until(EC.presence_of_element_located((By.CLASS_NAME, \"a-size-medium.pmts-portal-add-ba-title.a-text-bold\")))\n",
    "        sleep(randint(1,3))\n",
    "        for element in self.driver.find_elements_by_class_name(\"a-button-inner\"):\n",
    "            text = element.text\n",
    "            if \"card\" in text:\n",
    "                element.find_element_by_tag_name(\"input\").click()\n",
    "    except:\n",
    "        pass\n",
    "    \n",
    "    if check_popup_add():\n",
    "        ### add ccv\n",
    "        sleep(randint(2,3))\n",
    "        \n",
    "        WebDriverWait(self.driver, 5).until(EC.presence_of_element_located((By.NAME, \"addCreditCardNumber\"))).send_keys(self.ccv_card_name)\n",
    "        sleep(randint(2,3))\n",
    "        WebDriverWait(self.driver, 5).until(EC.presence_of_element_located((By.NAME, \"ppw-accountHolderName\"))).send_keys(self.ccv_your_name)\n",
    "        sleep(randint(2,3))\n",
    "        \n",
    "        birth_select_list = self.driver.find_elements_by_class_name(\"a-button-text.a-declarative\")\n",
    "        # click monthn\n",
    "        birth_select_list[0].click()\n",
    "        sleep(randint(2,3))\n",
    "        month_dropdown_links = WebDriverWait(self.driver, 6).until(EC.presence_of_all_elements_located((By.CLASS_NAME, \"a-dropdown-link\")))\n",
    "        for element in month_dropdown_links:\n",
    "            if self.ccv_month in element.text:\n",
    "                element.click()\n",
    "                break\n",
    "        \n",
    "#         month_scrollbar = WebDriverWait(self.driver, 6).until(EC.presence_of_element_located((By.CLASS_NAME, \"a-popover-inner.a-declarative.a-scrollbar-fix.a-lgtbox-vertical-scroll\")))\n",
    "#         sleep(randint(2,3))\n",
    "#         month_scrollbar.find_elements_by_class_name(\"a-dropdown-item\")[int(self.ccv_month) - 1].click()\n",
    "        \n",
    "    \n",
    "        \n",
    "        sleep(randint(2,3))\n",
    "        # click year\n",
    "        birth_select_list[1].click()\n",
    "        year_dropdown_links = WebDriverWait(self.driver, 6).until(EC.presence_of_all_elements_located((By.CLASS_NAME, \"a-dropdown-link\")))\n",
    "        for element in year_dropdown_links:\n",
    "            if self.ccv_year in element.text:\n",
    "                element.click()\n",
    "                break\n",
    "        \n",
    "#         year_scrollbar = WebDriverWait(self.driver, 6).until(EC.presence_of_element_located((By.CLASS_NAME, \"a-popover-inner.a-declarative.a-scrollbar-fix.a-lgtbox-vertical-scroll\")))\n",
    "#         sleep(randint(2,3))\n",
    "#         year_scrollbar.find_elements_by_class_name(\"a-dropdown-item\")[int(self.ccv_year) - 2022].click()\n",
    "        sleep(randint(2,3))\n",
    "        WebDriverWait(self.driver, 5).until(EC.presence_of_element_located((By.NAME, \"ppw-widgetEvent:AddCreditCardEvent\"))).click()\n",
    "\n",
    "        "
   ]
  },
  {
   "cell_type": "code",
   "execution_count": null,
   "id": "1302bc10",
   "metadata": {},
   "outputs": [],
   "source": [
    "self.ccv_card_name = \"fdg345345345\"\n",
    "self.ccv_your_name = \"dfsdf\""
   ]
  },
  {
   "cell_type": "code",
   "execution_count": null,
   "id": "7b5937cd",
   "metadata": {},
   "outputs": [],
   "source": [
    "add_ccv()"
   ]
  },
  {
   "cell_type": "markdown",
   "id": "668fb9cc",
   "metadata": {},
   "source": [
    "# BUY ITEM"
   ]
  },
  {
   "cell_type": "code",
   "execution_count": null,
   "id": "4b74ab98",
   "metadata": {},
   "outputs": [],
   "source": [
    "def click_helper(element):\n",
    "    # create action chain object\n",
    "    action = ActionChains(self.driver)  \n",
    "    # click the item\n",
    "    action.click(on_element = element)\n",
    "    # perform the operation\n",
    "    action.perform()\n",
    "element = self.driver.find_element_by_id(\"add-to-cart-button\")\n",
    "click_helper(element)"
   ]
  },
  {
   "cell_type": "code",
   "execution_count": null,
   "id": "b4f0e56f",
   "metadata": {},
   "outputs": [],
   "source": [
    "element = self.driver.find_element_by_name(\"proceedToRetailCheckout\")\n",
    "click_helper(element)"
   ]
  },
  {
   "cell_type": "code",
   "execution_count": null,
   "id": "7f148aea",
   "metadata": {},
   "outputs": [],
   "source": [
    "self.ccv_phone_number = \"4534534543\""
   ]
  },
  {
   "cell_type": "code",
   "execution_count": null,
   "id": "3cf0f95d",
   "metadata": {},
   "outputs": [],
   "source": [
    "self.ccv_your_name = \"David hallow\"\n",
    "self."
   ]
  },
  {
   "cell_type": "code",
   "execution_count": null,
   "id": "bc9ad6f3",
   "metadata": {},
   "outputs": [],
   "source": [
    "4117704078387577|06|2024\n",
    "David hallow,205 McGowan Ave, Bardstown, KY 40004, USA  714-837-3424"
   ]
  },
  {
   "cell_type": "code",
   "execution_count": null,
   "id": "cb8c3bdf",
   "metadata": {},
   "outputs": [],
   "source": [
    "# phonenumber\n",
    "WebDriverWait(self.driver, 5).until(EC.presence_of_element_located((By.NAME, \"address-ui-widgets-enterAddressPhoneNumber\"))).send_keys(self.ccv_phone_number)\n"
   ]
  },
  {
   "cell_type": "code",
   "execution_count": null,
   "id": "754c7404",
   "metadata": {},
   "outputs": [],
   "source": [
    "address-ui-widgets-enterAddressLine1"
   ]
  },
  {
   "cell_type": "code",
   "execution_count": 14,
   "id": "f307478a",
   "metadata": {},
   "outputs": [],
   "source": [
    "data = \"\"\"Jessy Jassion  254 Baughman Ave, Danville, KY 40422, USA, 8722568548       4744722110506872|09|2023  \n",
    "Holly Watkinson  742 Eliza Pl, Montgomery, AL 36109, USA, 522568548       4744722110507615|09|2023  \n",
    "Reed Pantaleon  2078 S Broadway, Santa Ana, CA 92707, USA, 2322568548      4744722110507672|09|2023  \n",
    "Heather Cowdell  719 Sir Michael Dr, Montgomery, AL 36109, USA, 722568548       4744722110507581|09|2023  \n",
    "Charles Raine  792 E 37th St, Brooklyn, NY 11210, USA, 872238548       4744722110507730|09|2023  \n",
    "Lisa Biggs  429 Knollcrest St, Murray, UT 84107, USA, 872438548      4744722110507847|09|2023  \n",
    "Joe Rosali  11728 Quitman St, Westminster, CO 80031, 8722568548       4117704078412656|06|2024  \n",
    "Janie Katya  1925 N Pass Ave, Burbank, CA 91505, USA, 8722564558       4117704078413787|06|2024  \n",
    "David Calli  2406 Rustic Oak Ln, Austin, TX 78748, USA, 8722568548       4117704078413811|06|2024  \n",
    "Katelyn Cissy  4604 Velasco Pl, Austin, TX 78749, USA, 8722568548       4117704078414017|06|2024  \n",
    "James Idalin  430 Village Dr, Elizabethtown, KY 42701, USA, 8722568538       4117704078414132|06|2024  \n",
    "Kathleen Calida  3550 Spendthrift Ln, Lexington, KY 40517, USA,8722568544      4117704078414165|06|2024\"\"\".split(\"\\n\")"
   ]
  },
  {
   "cell_type": "code",
   "execution_count": 15,
   "id": "f7914add",
   "metadata": {},
   "outputs": [],
   "source": [
    "def handle_account_info(data):\n",
    "    account_info_list = []\n",
    "    for value in data:\n",
    "        account_info_dict = {}\n",
    "        value = value.strip()\n",
    "        last_space_index = value.rfind(\" \")\n",
    "        info_data = value[:last_space_index].strip()\n",
    "        ccv_data = value[last_space_index:].strip().split(\"|\")\n",
    "        account_info_dict[\"ccv_card_name\"] = ccv_data[0]\n",
    "        account_info_dict[\"ccv_month\"] = ccv_data[1]\n",
    "        account_info_dict[\"ccv_year\"] =  ccv_data[2]\n",
    "        account_info_dict[\"your_name\"] = info_data[0]\n",
    "        \n",
    "        def find_second_space_index(s):\n",
    "            count = 0\n",
    "            for i in range(len(s)):\n",
    "                if s[i] == \" \":\n",
    "                    count += 1\n",
    "                if count == 2:\n",
    "                    return i\n",
    "            return 0\n",
    "        second_space_index = find_second_space_index(info_data)\n",
    "        account_info_dict[\"your_name\"] = info_data[:second_space_index].strip()\n",
    "        temp_info_data =  info_data[second_space_index:].strip().split(\",\")\n",
    "        account_info_dict[\"stress_address\"] = temp_info_data[0].strip()\n",
    "        account_info_dict[\"city\"] = temp_info_data[1].strip()\n",
    "        account_info_dict[\"state\"] = temp_info_data[2].strip().split(\" \")[0].strip()\n",
    "        account_info_dict[\"zip_code\"] = temp_info_data[2].strip().split(\" \")[1].strip()\n",
    "        account_info_dict[\"phone_number\"] = temp_info_data[-1].strip()\n",
    "        account_info_list.append(account_info_dict)\n",
    "    return account_info_list"
   ]
  },
  {
   "cell_type": "code",
   "execution_count": 16,
   "id": "e8d5f40c",
   "metadata": {},
   "outputs": [
    {
     "data": {
      "text/plain": [
       "[{'ccv_card_name': '4744722110506872',\n",
       "  'ccv_month': '09',\n",
       "  'ccv_year': '2023',\n",
       "  'your_name': 'Jessy Jassion',\n",
       "  'stress_address': '254 Baughman Ave',\n",
       "  'city': 'Danville',\n",
       "  'state': 'KY',\n",
       "  'zip_code': '40422',\n",
       "  'phone_number': '8722568548'},\n",
       " {'ccv_card_name': '4744722110507615',\n",
       "  'ccv_month': '09',\n",
       "  'ccv_year': '2023',\n",
       "  'your_name': 'Holly Watkinson',\n",
       "  'stress_address': '742 Eliza Pl',\n",
       "  'city': 'Montgomery',\n",
       "  'state': 'AL',\n",
       "  'zip_code': '36109',\n",
       "  'phone_number': '522568548'},\n",
       " {'ccv_card_name': '4744722110507672',\n",
       "  'ccv_month': '09',\n",
       "  'ccv_year': '2023',\n",
       "  'your_name': 'Reed Pantaleon',\n",
       "  'stress_address': '2078 S Broadway',\n",
       "  'city': 'Santa Ana',\n",
       "  'state': 'CA',\n",
       "  'zip_code': '92707',\n",
       "  'phone_number': '2322568548'},\n",
       " {'ccv_card_name': '4744722110507581',\n",
       "  'ccv_month': '09',\n",
       "  'ccv_year': '2023',\n",
       "  'your_name': 'Heather Cowdell',\n",
       "  'stress_address': '719 Sir Michael Dr',\n",
       "  'city': 'Montgomery',\n",
       "  'state': 'AL',\n",
       "  'zip_code': '36109',\n",
       "  'phone_number': '722568548'},\n",
       " {'ccv_card_name': '4744722110507730',\n",
       "  'ccv_month': '09',\n",
       "  'ccv_year': '2023',\n",
       "  'your_name': 'Charles Raine',\n",
       "  'stress_address': '792 E 37th St',\n",
       "  'city': 'Brooklyn',\n",
       "  'state': 'NY',\n",
       "  'zip_code': '11210',\n",
       "  'phone_number': '872238548'},\n",
       " {'ccv_card_name': '4744722110507847',\n",
       "  'ccv_month': '09',\n",
       "  'ccv_year': '2023',\n",
       "  'your_name': 'Lisa Biggs',\n",
       "  'stress_address': '429 Knollcrest St',\n",
       "  'city': 'Murray',\n",
       "  'state': 'UT',\n",
       "  'zip_code': '84107',\n",
       "  'phone_number': '872438548'},\n",
       " {'ccv_card_name': '4117704078412656',\n",
       "  'ccv_month': '06',\n",
       "  'ccv_year': '2024',\n",
       "  'your_name': 'Joe Rosali',\n",
       "  'stress_address': '11728 Quitman St',\n",
       "  'city': 'Westminster',\n",
       "  'state': 'CO',\n",
       "  'zip_code': '80031',\n",
       "  'phone_number': '8722568548'},\n",
       " {'ccv_card_name': '4117704078413787',\n",
       "  'ccv_month': '06',\n",
       "  'ccv_year': '2024',\n",
       "  'your_name': 'Janie Katya',\n",
       "  'stress_address': '1925 N Pass Ave',\n",
       "  'city': 'Burbank',\n",
       "  'state': 'CA',\n",
       "  'zip_code': '91505',\n",
       "  'phone_number': '8722564558'},\n",
       " {'ccv_card_name': '4117704078413811',\n",
       "  'ccv_month': '06',\n",
       "  'ccv_year': '2024',\n",
       "  'your_name': 'David Calli',\n",
       "  'stress_address': '2406 Rustic Oak Ln',\n",
       "  'city': 'Austin',\n",
       "  'state': 'TX',\n",
       "  'zip_code': '78748',\n",
       "  'phone_number': '8722568548'},\n",
       " {'ccv_card_name': '4117704078414017',\n",
       "  'ccv_month': '06',\n",
       "  'ccv_year': '2024',\n",
       "  'your_name': 'Katelyn Cissy',\n",
       "  'stress_address': '4604 Velasco Pl',\n",
       "  'city': 'Austin',\n",
       "  'state': 'TX',\n",
       "  'zip_code': '78749',\n",
       "  'phone_number': '8722568548'},\n",
       " {'ccv_card_name': '4117704078414132',\n",
       "  'ccv_month': '06',\n",
       "  'ccv_year': '2024',\n",
       "  'your_name': 'James Idalin',\n",
       "  'stress_address': '430 Village Dr',\n",
       "  'city': 'Elizabethtown',\n",
       "  'state': 'KY',\n",
       "  'zip_code': '42701',\n",
       "  'phone_number': '8722568538'},\n",
       " {'ccv_card_name': '4117704078414165',\n",
       "  'ccv_month': '06',\n",
       "  'ccv_year': '2024',\n",
       "  'your_name': 'Kathleen Calida',\n",
       "  'stress_address': '3550 Spendthrift Ln',\n",
       "  'city': 'Lexington',\n",
       "  'state': 'KY',\n",
       "  'zip_code': '40517',\n",
       "  'phone_number': '8722568544'}]"
      ]
     },
     "execution_count": 16,
     "metadata": {},
     "output_type": "execute_result"
    }
   ],
   "source": [
    "handle_account_info(data)"
   ]
  },
  {
   "cell_type": "code",
   "execution_count": 2,
   "id": "ff79efc9",
   "metadata": {},
   "outputs": [],
   "source": [
    "x =  [\"PT088-LINDATHANH|13145 Brookhurst Street Suite A|Garden Grove|CA|92843|USA|714-362-6265|4744722110631860|09|2023\"]"
   ]
  },
  {
   "cell_type": "code",
   "execution_count": 7,
   "id": "afd587c0",
   "metadata": {},
   "outputs": [],
   "source": [
    "def handle_account_info_new(data):\n",
    "    account_info_list = []\n",
    "    for value in data:\n",
    "        value_split = value.strip().split(\"|\")\n",
    "        account_info_dict = {}\n",
    "        account_info_dict[\"your_name\"] = value_split[0]\n",
    "        account_info_dict[\"stress_address\"] = value_split[1]\n",
    "        account_info_dict[\"city\"] = value_split[2]\n",
    "        account_info_dict[\"state\"] = value_split[3]\n",
    "        account_info_dict[\"zip_code\"] = value_split[4]\n",
    "        account_info_dict[\"phone_number\"] = value_split[6]\n",
    "        \n",
    "        account_info_dict[\"ccv_card_name\"] = value_split[7]\n",
    "        account_info_dict[\"ccv_month\"] = value_split[8]\n",
    "        account_info_dict[\"ccv_year\"] =  value_split[9]\n",
    "        \n",
    "        \n",
    "        account_info_list.append(account_info_dict)\n",
    "    return account_info_list"
   ]
  },
  {
   "cell_type": "code",
   "execution_count": 8,
   "id": "e262917a",
   "metadata": {},
   "outputs": [
    {
     "data": {
      "text/plain": [
       "[{'your_name': 'PT088-LINDATHANH',\n",
       "  'stress_address': '13145 Brookhurst Street Suite A',\n",
       "  'city': 'Garden Grove',\n",
       "  'state': 'CA',\n",
       "  'zip_code': '92843',\n",
       "  'phone_number': 'USA',\n",
       "  'ccv_card_name': '714-362-6265',\n",
       "  'ccv_month': '4744722110631860',\n",
       "  'ccv_year': '09'}]"
      ]
     },
     "execution_count": 8,
     "metadata": {},
     "output_type": "execute_result"
    }
   ],
   "source": [
    "handle_account_info(x)"
   ]
  },
  {
   "cell_type": "code",
   "execution_count": null,
   "id": "b15eaf46",
   "metadata": {},
   "outputs": [],
   "source": []
  }
 ],
 "metadata": {
  "kernelspec": {
   "display_name": "Python 3",
   "language": "python",
   "name": "python3"
  },
  "language_info": {
   "codemirror_mode": {
    "name": "ipython",
    "version": 3
   },
   "file_extension": ".py",
   "mimetype": "text/x-python",
   "name": "python",
   "nbconvert_exporter": "python",
   "pygments_lexer": "ipython3",
   "version": "3.8.8"
  }
 },
 "nbformat": 4,
 "nbformat_minor": 5
}
